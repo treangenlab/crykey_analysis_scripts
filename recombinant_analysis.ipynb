{
 "cells": [
  {
   "cell_type": "code",
   "execution_count": 2,
   "metadata": {},
   "outputs": [],
   "source": [
    "import pickle\n",
    "import glob\n",
    "import re\n",
    "import os\n",
    "import copy\n",
    "import subprocess\n",
    "import time\n",
    "from datetime import datetime, timedelta, date\n",
    "from collections import defaultdict, Counter, OrderedDict\n",
    "from functools import reduce\n",
    "import json\n",
    "import vcf\n",
    "import pysam\n",
    "import numpy as np\n",
    "import pandas as pd\n",
    "import dask.dataframe as dd\n",
    "from Bio import SeqIO\n",
    "from Bio.SeqUtils import seq1\n",
    "from Bio.Seq import Seq\n",
    "import matplotlib as mpl\n",
    "import matplotlib.pyplot as plt\n",
    "import matplotlib.ticker as mtick\n",
    "from matplotlib.patches import Rectangle\n",
    "from mpl_toolkits.axes_grid1 import make_axes_locatable\n",
    "import random\n",
    "\n",
    "from utils.file_loaders import load_metadata, load_vdb_mutation_data, merge_data, load_vdb_df, load_alias_data\n",
    "from utils.quaid_func import get_counts, get_all_voc, build_count_df, get_recent_nt_df"
   ]
  },
  {
   "cell_type": "code",
   "execution_count": 3,
   "metadata": {},
   "outputs": [],
   "source": [
    "def remove_ambiguous_snps(x):\n",
    "    if isinstance(x, Counter):\n",
    "        if '' in x:\n",
    "            del x['']\n",
    "\n",
    "        to_remove = Counter()\n",
    "        for key in x:\n",
    "            if re.match('[A,C,T,G][0-9]+[A,C,T,G,-]+', key) is None:\n",
    "                to_remove[key] = x[key] \n",
    "\n",
    "        x = x - to_remove\n",
    "        \n",
    "        return +x\n",
    "    else:\n",
    "        return None"
   ]
  },
  {
   "cell_type": "markdown",
   "metadata": {},
   "source": [
    "# Metadata"
   ]
  },
  {
   "cell_type": "code",
   "execution_count": 4,
   "metadata": {},
   "outputs": [],
   "source": [
    "\"\"\"\n",
    "if databases have been build, then set prebuild=True to load them directly\n",
    "the lastest version of the database is built with max_date=\"2022-05-09\"\n",
    "\"\"\"\n",
    "prebuild = True\n",
    "max_date = \"2022-10-21\""
   ]
  },
  {
   "cell_type": "code",
   "execution_count": 5,
   "metadata": {},
   "outputs": [],
   "source": [
    "metadata_f = \"/home/Users/ns58/SARS-CoV-2-MSA-10-21-2022/metadata.tsv\"\n",
    "vdb_df_path = \"/home/Users/ns58/WW/vdb_output/vdb_lineage_df_week.csv\"\n",
    "trimmed_vdb_f = \"/home/Users/ns58/SARS-CoV-2-MSA-10-21-2022/vdb_10212022_trimmed_nucl.txt\""
   ]
  },
  {
   "cell_type": "code",
   "execution_count": 6,
   "metadata": {},
   "outputs": [],
   "source": [
    "def load_metadata(path):\n",
    "    #logger.info(f'Loading {path}')\n",
    "    _metadata = pd.read_csv(path, sep='\\t', low_memory=False)\n",
    "    _metadata = _metadata[(_metadata['Is complete?'] == True) & (_metadata['Host'] == 'Human')]\n",
    "    _metadata = _metadata[['Pango lineage', 'Collection date', 'Accession ID', 'Location']].copy()\n",
    "    _metadata = _metadata[_metadata['Collection date'].str.len() == 10].copy()\n",
    "    _metadata['Collection date'] = pd.to_datetime(_metadata['Collection date'])\n",
    "    _metadata = _metadata[_metadata['Pango lineage'].notna()].copy()\n",
    "    _metadata = _metadata[_metadata['Pango lineage'] != 'None'].copy()\n",
    "    _metadata = _metadata.set_index(['Collection date'])\n",
    "    return _metadata"
   ]
  },
  {
   "cell_type": "code",
   "execution_count": 7,
   "metadata": {},
   "outputs": [
    {
     "name": "stdout",
     "output_type": "stream",
     "text": [
      "CPU times: user 2min 49s, sys: 49 s, total: 3min 38s\n",
      "Wall time: 3min 38s\n"
     ]
    }
   ],
   "source": [
    "%%time\n",
    "metadata = load_metadata(metadata_f)"
   ]
  },
  {
   "cell_type": "code",
   "execution_count": 8,
   "metadata": {},
   "outputs": [
    {
     "name": "stdout",
     "output_type": "stream",
     "text": [
      "CPU times: user 52.8 s, sys: 4.91 s, total: 57.8 s\n",
      "Wall time: 57.9 s\n"
     ]
    }
   ],
   "source": [
    "%%time\n",
    "vdb_df = load_vdb_df(vdb_df_path)"
   ]
  },
  {
   "cell_type": "code",
   "execution_count": 9,
   "metadata": {},
   "outputs": [],
   "source": [
    "vdb_df = vdb_df.reset_index()"
   ]
  },
  {
   "cell_type": "code",
   "execution_count": 10,
   "metadata": {},
   "outputs": [
    {
     "data": {
      "text/html": [
       "<div>\n",
       "<style scoped>\n",
       "    .dataframe tbody tr th:only-of-type {\n",
       "        vertical-align: middle;\n",
       "    }\n",
       "\n",
       "    .dataframe tbody tr th {\n",
       "        vertical-align: top;\n",
       "    }\n",
       "\n",
       "    .dataframe thead th {\n",
       "        text-align: right;\n",
       "    }\n",
       "</style>\n",
       "<table border=\"1\" class=\"dataframe\">\n",
       "  <thead>\n",
       "    <tr style=\"text-align: right;\">\n",
       "      <th></th>\n",
       "      <th>Pango lineage</th>\n",
       "      <th>Collection date</th>\n",
       "      <th>SNPs</th>\n",
       "    </tr>\n",
       "  </thead>\n",
       "  <tbody>\n",
       "    <tr>\n",
       "      <th>0</th>\n",
       "      <td>A</td>\n",
       "      <td>2019-12-30</td>\n",
       "      <td>{'T4946C': 1, 'C8782T': 1, 'T28144C': 1, '': 1}</td>\n",
       "    </tr>\n",
       "    <tr>\n",
       "      <th>1</th>\n",
       "      <td>A</td>\n",
       "      <td>2020-01-06</td>\n",
       "      <td>{'C8782T': 2, 'T28144C': 2, '': 2, 'C5812Y': 1...</td>\n",
       "    </tr>\n",
       "    <tr>\n",
       "      <th>2</th>\n",
       "      <td>A</td>\n",
       "      <td>2020-01-13</td>\n",
       "      <td>{'C8782T': 3, 'T28144C': 3, 'C29095T': 3, '': ...</td>\n",
       "    </tr>\n",
       "    <tr>\n",
       "      <th>3</th>\n",
       "      <td>A</td>\n",
       "      <td>2020-01-20</td>\n",
       "      <td>{'C8782T': 14, 'T28144C': 14, '': 6, 'C18060T'...</td>\n",
       "    </tr>\n",
       "    <tr>\n",
       "      <th>4</th>\n",
       "      <td>A</td>\n",
       "      <td>2020-01-27</td>\n",
       "      <td>{'C8782T': 72, 'T28144C': 72, 'C18060T': 11, '...</td>\n",
       "    </tr>\n",
       "    <tr>\n",
       "      <th>...</th>\n",
       "      <td>...</td>\n",
       "      <td>...</td>\n",
       "      <td>...</td>\n",
       "    </tr>\n",
       "    <tr>\n",
       "      <th>80530</th>\n",
       "      <td>Z.1</td>\n",
       "      <td>2021-03-29</td>\n",
       "      <td>{'C241T': 2, 'T445C': 2, 'T2489C': 2, 'C3037T'...</td>\n",
       "    </tr>\n",
       "    <tr>\n",
       "      <th>80531</th>\n",
       "      <td>Z.1</td>\n",
       "      <td>2021-04-05</td>\n",
       "      <td>{'C241T': 2, 'T445C': 2, 'T2489C': 2, 'C3037T'...</td>\n",
       "    </tr>\n",
       "    <tr>\n",
       "      <th>80532</th>\n",
       "      <td>Z.1</td>\n",
       "      <td>2021-04-12</td>\n",
       "      <td>{'T11C': 1, 'A12T': 1, 'A14G': 1, 'C16G': 1, '...</td>\n",
       "    </tr>\n",
       "    <tr>\n",
       "      <th>80533</th>\n",
       "      <td>Z.1</td>\n",
       "      <td>2021-04-19</td>\n",
       "      <td>{'C241T': 1, 'T445C': 1, 'T2489C': 1, 'C3037T'...</td>\n",
       "    </tr>\n",
       "    <tr>\n",
       "      <th>80534</th>\n",
       "      <td>Z.1</td>\n",
       "      <td>2021-04-26</td>\n",
       "      <td>{'C241T': 1, 'T445C': 1, 'T2489C': 1, 'C3037T'...</td>\n",
       "    </tr>\n",
       "  </tbody>\n",
       "</table>\n",
       "<p>80535 rows × 3 columns</p>\n",
       "</div>"
      ],
      "text/plain": [
       "      Pango lineage Collection date  \\\n",
       "0                 A      2019-12-30   \n",
       "1                 A      2020-01-06   \n",
       "2                 A      2020-01-13   \n",
       "3                 A      2020-01-20   \n",
       "4                 A      2020-01-27   \n",
       "...             ...             ...   \n",
       "80530           Z.1      2021-03-29   \n",
       "80531           Z.1      2021-04-05   \n",
       "80532           Z.1      2021-04-12   \n",
       "80533           Z.1      2021-04-19   \n",
       "80534           Z.1      2021-04-26   \n",
       "\n",
       "                                                    SNPs  \n",
       "0        {'T4946C': 1, 'C8782T': 1, 'T28144C': 1, '': 1}  \n",
       "1      {'C8782T': 2, 'T28144C': 2, '': 2, 'C5812Y': 1...  \n",
       "2      {'C8782T': 3, 'T28144C': 3, 'C29095T': 3, '': ...  \n",
       "3      {'C8782T': 14, 'T28144C': 14, '': 6, 'C18060T'...  \n",
       "4      {'C8782T': 72, 'T28144C': 72, 'C18060T': 11, '...  \n",
       "...                                                  ...  \n",
       "80530  {'C241T': 2, 'T445C': 2, 'T2489C': 2, 'C3037T'...  \n",
       "80531  {'C241T': 2, 'T445C': 2, 'T2489C': 2, 'C3037T'...  \n",
       "80532  {'T11C': 1, 'A12T': 1, 'A14G': 1, 'C16G': 1, '...  \n",
       "80533  {'C241T': 1, 'T445C': 1, 'T2489C': 1, 'C3037T'...  \n",
       "80534  {'C241T': 1, 'T445C': 1, 'T2489C': 1, 'C3037T'...  \n",
       "\n",
       "[80535 rows x 3 columns]"
      ]
     },
     "execution_count": 10,
     "metadata": {},
     "output_type": "execute_result"
    }
   ],
   "source": [
    "vdb_df"
   ]
  },
  {
   "cell_type": "code",
   "execution_count": 11,
   "metadata": {},
   "outputs": [],
   "source": [
    "vdb_df['SNPs'] = vdb_df['SNPs'].map(remove_ambiguous_snps)"
   ]
  },
  {
   "cell_type": "markdown",
   "metadata": {},
   "source": [
    "# Lineage Count"
   ]
  },
  {
   "cell_type": "code",
   "execution_count": 12,
   "metadata": {},
   "outputs": [
    {
     "data": {
      "text/plain": [
       "12988493"
      ]
     },
     "execution_count": 12,
     "metadata": {},
     "output_type": "execute_result"
    }
   ],
   "source": [
    "gisaid_total_count = metadata.shape[0]\n",
    "gisaid_total_count"
   ]
  },
  {
   "cell_type": "code",
   "execution_count": 13,
   "metadata": {},
   "outputs": [],
   "source": [
    "pango_count_df = pd.DataFrame(metadata.groupby(['Pango lineage'])['Pango lineage'].count())"
   ]
  },
  {
   "cell_type": "code",
   "execution_count": 14,
   "metadata": {},
   "outputs": [],
   "source": [
    "pango_count_df = pango_count_df.rename({'Pango lineage': 'Count'}, axis=1)"
   ]
  },
  {
   "cell_type": "markdown",
   "metadata": {},
   "source": [
    "# Anchon Calculation"
   ]
  },
  {
   "cell_type": "code",
   "execution_count": 15,
   "metadata": {},
   "outputs": [],
   "source": [
    "pango_snps_dict = dict()\n",
    "for pango_lineage in pango_count_df.index:\n",
    "    vdb_df_temp = vdb_df[vdb_df['Pango lineage'] == pango_lineage]\n",
    "    counter_list = [x for x in vdb_df_temp['SNPs'].to_list() if isinstance(x, Counter)] \n",
    "    pango_snps_dict[pango_lineage] = sum(counter_list, Counter())"
   ]
  },
  {
   "cell_type": "code",
   "execution_count": 16,
   "metadata": {},
   "outputs": [],
   "source": [
    "quarc_db_path = 'quarc_dbs_01102023_incl_recombinant'\n",
    "file_to_read = open(os.path.join(quarc_db_path, \"mutation0_lookup.pkl\"), \"rb\")\n",
    "mutation0_lookup = pickle.load(file_to_read)\n",
    "file_to_read = open(os.path.join(quarc_db_path, \"mutation50_lookup.pkl\"), \"rb\")\n",
    "mutation50_lookup = pickle.load(file_to_read)"
   ]
  },
  {
   "cell_type": "code",
   "execution_count": 17,
   "metadata": {},
   "outputs": [],
   "source": [
    "output_acc_id = False"
   ]
  },
  {
   "cell_type": "code",
   "execution_count": 18,
   "metadata": {},
   "outputs": [],
   "source": [
    "test_set = set('A29039T;G29049A;G29050A'.split(\";\"))"
   ]
  },
  {
   "cell_type": "code",
   "execution_count": 19,
   "metadata": {},
   "outputs": [],
   "source": [
    "test_set = set('C23604A;C23625T;C23638T;T23765G'.split(\";\"))"
   ]
  },
  {
   "cell_type": "code",
   "execution_count": 20,
   "metadata": {},
   "outputs": [],
   "source": [
    "def search_anchors(mutation, mutation_lookup):\n",
    "    anchor_set = set()\n",
    "    try:\n",
    "        for lineage in {item.split(\"/\")[0] for item in mutation_lookup[mutation]}:\n",
    "            try:\n",
    "                prvalence_rate = pango_snps_dict[lineage][mutation]/pango_count_df.loc[lineage]['Count']\n",
    "                if prvalence_rate >= 0.500:\n",
    "                    anchor_set.add(lineage)\n",
    "                    #print(mutation, lineage, prvalence_rate)\n",
    "            except KeyError:\n",
    "                continue\n",
    "    except KeyError:\n",
    "        return anchor_set\n",
    "    return anchor_set"
   ]
  },
  {
   "cell_type": "code",
   "execution_count": 21,
   "metadata": {},
   "outputs": [],
   "source": [
    "def calc_category(anchor_list, highest_lineage):\n",
    "    all_anchor = True\n",
    "    no_anchor = True\n",
    "\n",
    "    for anchors in anchor_list:\n",
    "        if len(anchors) > 0:\n",
    "            no_anchor = False\n",
    "        else:\n",
    "            all_anchor = False\n",
    "\n",
    "    if not no_anchor and not all_anchor:\n",
    "        if highest_lineage != None:\n",
    "            return 'ANCHOR,RARE'\n",
    "        else:\n",
    "            return 'ANCHOR,NOVAL'\n",
    "        \n",
    "    if no_anchor:\n",
    "        if highest_lineage != None:\n",
    "            return 'NO_ANCHOR,RARE'\n",
    "        else:\n",
    "            return 'NO_ANCHOR,NOVAL'\n",
    "    \n",
    "    if all_anchor:\n",
    "        if highest_lineage != None:\n",
    "            return 'RECOMB,RARE'\n",
    "        else:\n",
    "            return 'RECOMB,NOVAL'"
   ]
  },
  {
   "cell_type": "code",
   "execution_count": 22,
   "metadata": {},
   "outputs": [],
   "source": [
    "def quary_mutation_set(test_set):\n",
    "    possible_voc_sets = []\n",
    "    anchor_list = []\n",
    "    for mutation in test_set:\n",
    "        anchor_list.append(search_anchors(mutation, mutation50_lookup))\n",
    "        try:\n",
    "            possible_voc_sets.append(mutation0_lookup[mutation])\n",
    "        except KeyError:\n",
    "            possible_voc_sets.append(set())\n",
    "\n",
    "    lineage_date_combs = set.intersection(*possible_voc_sets)\n",
    "    anchor_intersection = set.intersection(*anchor_list)\n",
    "    \n",
    "    # if len(anchor_intersection) != 0:\n",
    "    #     print('Error', anchor_intersection, test_set)\n",
    "    #print(possible_voc_sets)\n",
    "\n",
    "    mutation_prevalence_dict = defaultdict(int)\n",
    "    for lineage_date_comb in lineage_date_combs:\n",
    "        lineage, _ = lineage_date_comb.split(\"/\")\n",
    "        try:\n",
    "            for acc_id in genome2snp_dict[lineage_date_comb]:\n",
    "                if test_set.issubset(genome2snp_dict[lineage_date_comb][acc_id]):\n",
    "                    if output_acc_id:\n",
    "                        print(acc_id)\n",
    "                    mutation_prevalence_dict[lineage] += 1\n",
    "        except KeyError:\n",
    "            continue\n",
    "\n",
    "    mutation_prate_dict = defaultdict(float)\n",
    "    for lineage in mutation_prevalence_dict:\n",
    "        try:\n",
    "            mutation_prate_dict[lineage] = mutation_prevalence_dict[lineage]/pango_count_df.loc[lineage]['Count']\n",
    "            #print(lineage, mutation_prevalence_dict[lineage], pango_count_df.loc[lineage]['Count'])\n",
    "        except KeyError:\n",
    "            continue\n",
    "            print(f\"{lineage} not in pango_count_df\")\n",
    "            \n",
    "    try:\n",
    "        highest_lineage = max(mutation_prate_dict, key=lambda x:mutation_prate_dict[x])\n",
    "    except ValueError:\n",
    "        highest_lineage = None\n",
    "    \n",
    "    category = calc_category(anchor_list, highest_lineage)\n",
    "    \n",
    "    # if category == 'RECOMB,NOVAL':\n",
    "    #     print(anchor_list)\n",
    "    \n",
    "    return category, highest_lineage, mutation_prate_dict[highest_lineage]"
   ]
  },
  {
   "cell_type": "code",
   "execution_count": 42,
   "metadata": {
    "tags": []
   },
   "outputs": [],
   "source": [
    "result_list = []\n",
    "for mutation, row in incl_selected_data.iterrows():\n",
    "    category, highest_lineage, prev = quary_mutation_set(set(mutation.split(';')))\n",
    "    aa_mutation = incl_merged_df[incl_merged_df['Nt Mutations'] == mutation]['AA Mutations'].unique()[0]\n",
    "    result_list.append({\n",
    "        'Nt Mutation': mutation,\n",
    "        'AA Mutation': aa_mutation,\n",
    "        'Category': category,\n",
    "        'Highest Lineage': highest_lineage,\n",
    "        'Highest Prev Rate': prev\n",
    "    })"
   ]
  },
  {
   "cell_type": "code",
   "execution_count": 43,
   "metadata": {},
   "outputs": [],
   "source": [
    "result_df = pd.DataFrame(result_list)"
   ]
  },
  {
   "cell_type": "code",
   "execution_count": 44,
   "metadata": {},
   "outputs": [],
   "source": [
    "highest_occ = []\n",
    "for idx, row in result_df.iterrows():\n",
    "    nt_mutation = row['Nt Mutation']\n",
    "    highest_lineage = row['Highest Lineage']\n",
    "    \n",
    "    highest_occ.append(incl_query_result[nt_mutation][highest_lineage])"
   ]
  },
  {
   "cell_type": "code",
   "execution_count": 45,
   "metadata": {},
   "outputs": [],
   "source": [
    "result_df['Highest Occ'] = highest_occ"
   ]
  },
  {
   "cell_type": "code",
   "execution_count": 46,
   "metadata": {},
   "outputs": [],
   "source": [
    "result_df = result_df.merge(selected_data, how='left', left_on = 'Nt Mutation', right_index=True)"
   ]
  },
  {
   "cell_type": "code",
   "execution_count": 47,
   "metadata": {},
   "outputs": [],
   "source": [
    "result_df['Lineage Purity'] = result_df['Highest Occ']/result_df['GISAID Count']"
   ]
  },
  {
   "cell_type": "code",
   "execution_count": 48,
   "metadata": {},
   "outputs": [],
   "source": [
    "result_df.to_csv('recombinant.csv', index=False)"
   ]
  },
  {
   "cell_type": "code",
   "execution_count": 49,
   "metadata": {},
   "outputs": [],
   "source": [
    "result_df = pd.read_csv('recombinant.csv')"
   ]
  },
  {
   "cell_type": "code",
   "execution_count": 50,
   "metadata": {},
   "outputs": [
    {
     "data": {
      "text/html": [
       "<div>\n",
       "<style scoped>\n",
       "    .dataframe tbody tr th:only-of-type {\n",
       "        vertical-align: middle;\n",
       "    }\n",
       "\n",
       "    .dataframe tbody tr th {\n",
       "        vertical-align: top;\n",
       "    }\n",
       "\n",
       "    .dataframe thead th {\n",
       "        text-align: right;\n",
       "    }\n",
       "</style>\n",
       "<table border=\"1\" class=\"dataframe\">\n",
       "  <thead>\n",
       "    <tr style=\"text-align: right;\">\n",
       "      <th></th>\n",
       "      <th>Nt Mutation</th>\n",
       "      <th>AA Mutation</th>\n",
       "      <th>Category</th>\n",
       "      <th>Highest Lineage</th>\n",
       "      <th>Highest Prev Rate</th>\n",
       "      <th>Highest Occ</th>\n",
       "      <th>Site</th>\n",
       "      <th>GISAID Count</th>\n",
       "      <th>Lineage Purity</th>\n",
       "    </tr>\n",
       "  </thead>\n",
       "  <tbody>\n",
       "    <tr>\n",
       "      <th>0</th>\n",
       "      <td>A1003G;C913T</td>\n",
       "      <td>ORF1a:E246E;ORF1a:S216S</td>\n",
       "      <td>ANCHOR,RARE</td>\n",
       "      <td>B.1.1.7</td>\n",
       "      <td>0.000083</td>\n",
       "      <td>95</td>\n",
       "      <td>5</td>\n",
       "      <td>95</td>\n",
       "      <td>1.000000</td>\n",
       "    </tr>\n",
       "    <tr>\n",
       "      <th>1</th>\n",
       "      <td>A10195G;C10252T</td>\n",
       "      <td>ORF1a:E3310E;ORF1a:F3329F</td>\n",
       "      <td>ANCHOR,RARE</td>\n",
       "      <td>AY.42</td>\n",
       "      <td>0.000066</td>\n",
       "      <td>2</td>\n",
       "      <td>9</td>\n",
       "      <td>14</td>\n",
       "      <td>0.142857</td>\n",
       "    </tr>\n",
       "    <tr>\n",
       "      <th>2</th>\n",
       "      <td>A10195G;C10277T</td>\n",
       "      <td>ORF1a:E3310E;ORF1a:L3338F</td>\n",
       "      <td>ANCHOR,RARE</td>\n",
       "      <td>B.1.1.7</td>\n",
       "      <td>0.000028</td>\n",
       "      <td>32</td>\n",
       "      <td>3</td>\n",
       "      <td>33</td>\n",
       "      <td>0.969697</td>\n",
       "    </tr>\n",
       "    <tr>\n",
       "      <th>3</th>\n",
       "      <td>A10195G;C10319T</td>\n",
       "      <td>ORF1a:E3310E;ORF1a:L3352F</td>\n",
       "      <td>ANCHOR,RARE</td>\n",
       "      <td>B.1.2</td>\n",
       "      <td>0.000007</td>\n",
       "      <td>1</td>\n",
       "      <td>7</td>\n",
       "      <td>3</td>\n",
       "      <td>0.333333</td>\n",
       "    </tr>\n",
       "    <tr>\n",
       "      <th>4</th>\n",
       "      <td>A10195G;C10332T</td>\n",
       "      <td>ORF1a:E3310E;ORF1a:T3356I</td>\n",
       "      <td>ANCHOR,RARE</td>\n",
       "      <td>B.1.1.7</td>\n",
       "      <td>0.000011</td>\n",
       "      <td>12</td>\n",
       "      <td>2</td>\n",
       "      <td>12</td>\n",
       "      <td>1.000000</td>\n",
       "    </tr>\n",
       "    <tr>\n",
       "      <th>...</th>\n",
       "      <td>...</td>\n",
       "      <td>...</td>\n",
       "      <td>...</td>\n",
       "      <td>...</td>\n",
       "      <td>...</td>\n",
       "      <td>...</td>\n",
       "      <td>...</td>\n",
       "      <td>...</td>\n",
       "      <td>...</td>\n",
       "    </tr>\n",
       "    <tr>\n",
       "      <th>711</th>\n",
       "      <td>T7233G;A7234T;G7235T</td>\n",
       "      <td>ORF1a:L2323*;ORF1a:L2323F;ORF1a:V2324F</td>\n",
       "      <td>NO_ANCHOR,NOVAL</td>\n",
       "      <td>NaN</td>\n",
       "      <td>0.000000</td>\n",
       "      <td>0</td>\n",
       "      <td>2</td>\n",
       "      <td>0</td>\n",
       "      <td>NaN</td>\n",
       "    </tr>\n",
       "    <tr>\n",
       "      <th>712</th>\n",
       "      <td>T847A;C913T</td>\n",
       "      <td>ORF1a:D194E;ORF1a:S216S</td>\n",
       "      <td>ANCHOR,RARE</td>\n",
       "      <td>B.1.1.7</td>\n",
       "      <td>0.000256</td>\n",
       "      <td>292</td>\n",
       "      <td>10</td>\n",
       "      <td>293</td>\n",
       "      <td>0.996587</td>\n",
       "    </tr>\n",
       "    <tr>\n",
       "      <th>713</th>\n",
       "      <td>T886C;C913T</td>\n",
       "      <td>ORF1a:R207R;ORF1a:S216S</td>\n",
       "      <td>ANCHOR,RARE</td>\n",
       "      <td>B.1.1.7</td>\n",
       "      <td>0.000062</td>\n",
       "      <td>71</td>\n",
       "      <td>2</td>\n",
       "      <td>71</td>\n",
       "      <td>1.000000</td>\n",
       "    </tr>\n",
       "    <tr>\n",
       "      <th>714</th>\n",
       "      <td>T8915C;C8986T</td>\n",
       "      <td>ORF1a:F2884L;ORF1a:D2907D</td>\n",
       "      <td>ANCHOR,RARE</td>\n",
       "      <td>AY.102</td>\n",
       "      <td>0.001842</td>\n",
       "      <td>5</td>\n",
       "      <td>3</td>\n",
       "      <td>120</td>\n",
       "      <td>0.041667</td>\n",
       "    </tr>\n",
       "    <tr>\n",
       "      <th>715</th>\n",
       "      <td>T902C;C913T</td>\n",
       "      <td>ORF1a:C213R;ORF1a:S216S</td>\n",
       "      <td>RECOMB,RARE</td>\n",
       "      <td>B.1.1.7</td>\n",
       "      <td>0.000140</td>\n",
       "      <td>159</td>\n",
       "      <td>2</td>\n",
       "      <td>159</td>\n",
       "      <td>1.000000</td>\n",
       "    </tr>\n",
       "  </tbody>\n",
       "</table>\n",
       "<p>716 rows × 9 columns</p>\n",
       "</div>"
      ],
      "text/plain": [
       "              Nt Mutation                             AA Mutation  \\\n",
       "0            A1003G;C913T                 ORF1a:E246E;ORF1a:S216S   \n",
       "1         A10195G;C10252T               ORF1a:E3310E;ORF1a:F3329F   \n",
       "2         A10195G;C10277T               ORF1a:E3310E;ORF1a:L3338F   \n",
       "3         A10195G;C10319T               ORF1a:E3310E;ORF1a:L3352F   \n",
       "4         A10195G;C10332T               ORF1a:E3310E;ORF1a:T3356I   \n",
       "..                    ...                                     ...   \n",
       "711  T7233G;A7234T;G7235T  ORF1a:L2323*;ORF1a:L2323F;ORF1a:V2324F   \n",
       "712           T847A;C913T                 ORF1a:D194E;ORF1a:S216S   \n",
       "713           T886C;C913T                 ORF1a:R207R;ORF1a:S216S   \n",
       "714         T8915C;C8986T               ORF1a:F2884L;ORF1a:D2907D   \n",
       "715           T902C;C913T                 ORF1a:C213R;ORF1a:S216S   \n",
       "\n",
       "            Category Highest Lineage  Highest Prev Rate  Highest Occ  Site  \\\n",
       "0        ANCHOR,RARE         B.1.1.7           0.000083           95     5   \n",
       "1        ANCHOR,RARE           AY.42           0.000066            2     9   \n",
       "2        ANCHOR,RARE         B.1.1.7           0.000028           32     3   \n",
       "3        ANCHOR,RARE           B.1.2           0.000007            1     7   \n",
       "4        ANCHOR,RARE         B.1.1.7           0.000011           12     2   \n",
       "..               ...             ...                ...          ...   ...   \n",
       "711  NO_ANCHOR,NOVAL             NaN           0.000000            0     2   \n",
       "712      ANCHOR,RARE         B.1.1.7           0.000256          292    10   \n",
       "713      ANCHOR,RARE         B.1.1.7           0.000062           71     2   \n",
       "714      ANCHOR,RARE          AY.102           0.001842            5     3   \n",
       "715      RECOMB,RARE         B.1.1.7           0.000140          159     2   \n",
       "\n",
       "     GISAID Count  Lineage Purity  \n",
       "0              95        1.000000  \n",
       "1              14        0.142857  \n",
       "2              33        0.969697  \n",
       "3               3        0.333333  \n",
       "4              12        1.000000  \n",
       "..            ...             ...  \n",
       "711             0             NaN  \n",
       "712           293        0.996587  \n",
       "713            71        1.000000  \n",
       "714           120        0.041667  \n",
       "715           159        1.000000  \n",
       "\n",
       "[716 rows x 9 columns]"
      ]
     },
     "execution_count": 50,
     "metadata": {},
     "output_type": "execute_result"
    }
   ],
   "source": [
    "result_df"
   ]
  },
  {
   "cell_type": "code",
   "execution_count": 51,
   "metadata": {},
   "outputs": [
    {
     "data": {
      "text/html": [
       "<div>\n",
       "<style scoped>\n",
       "    .dataframe tbody tr th:only-of-type {\n",
       "        vertical-align: middle;\n",
       "    }\n",
       "\n",
       "    .dataframe tbody tr th {\n",
       "        vertical-align: top;\n",
       "    }\n",
       "\n",
       "    .dataframe thead th {\n",
       "        text-align: right;\n",
       "    }\n",
       "</style>\n",
       "<table border=\"1\" class=\"dataframe\">\n",
       "  <thead>\n",
       "    <tr style=\"text-align: right;\">\n",
       "      <th></th>\n",
       "      <th>Nt Mutation</th>\n",
       "      <th>AA Mutation</th>\n",
       "      <th>Category</th>\n",
       "      <th>Highest Lineage</th>\n",
       "      <th>Highest Prev Rate</th>\n",
       "      <th>Highest Occ</th>\n",
       "      <th>Site</th>\n",
       "      <th>GISAID Count</th>\n",
       "      <th>Lineage Purity</th>\n",
       "    </tr>\n",
       "  </thead>\n",
       "  <tbody>\n",
       "    <tr>\n",
       "      <th>356</th>\n",
       "      <td>C6312A;C6402T</td>\n",
       "      <td>ORF1a:T2016K;ORF1a:P2046L</td>\n",
       "      <td>RECOMB,RARE</td>\n",
       "      <td>AY.46.6.1</td>\n",
       "      <td>0.005495</td>\n",
       "      <td>1</td>\n",
       "      <td>2</td>\n",
       "      <td>542</td>\n",
       "      <td>0.001845</td>\n",
       "    </tr>\n",
       "    <tr>\n",
       "      <th>452</th>\n",
       "      <td>G25135T;G25337T</td>\n",
       "      <td>S:K1191N;S:D1259Y</td>\n",
       "      <td>RECOMB,RARE</td>\n",
       "      <td>AY.4.5</td>\n",
       "      <td>0.005817</td>\n",
       "      <td>99</td>\n",
       "      <td>2</td>\n",
       "      <td>109</td>\n",
       "      <td>0.908257</td>\n",
       "    </tr>\n",
       "    <tr>\n",
       "      <th>445</th>\n",
       "      <td>G24781T;G24914C</td>\n",
       "      <td>S:K1073N;S:D1118H</td>\n",
       "      <td>RECOMB,RARE</td>\n",
       "      <td>Q.1</td>\n",
       "      <td>0.000582</td>\n",
       "      <td>4</td>\n",
       "      <td>2</td>\n",
       "      <td>440</td>\n",
       "      <td>0.009091</td>\n",
       "    </tr>\n",
       "    <tr>\n",
       "      <th>441</th>\n",
       "      <td>G23522C;G23593T</td>\n",
       "      <td>S:E654Q;S:Q677H</td>\n",
       "      <td>RECOMB,RARE</td>\n",
       "      <td>B.1.2</td>\n",
       "      <td>0.000471</td>\n",
       "      <td>69</td>\n",
       "      <td>2</td>\n",
       "      <td>85</td>\n",
       "      <td>0.811765</td>\n",
       "    </tr>\n",
       "    <tr>\n",
       "      <th>418</th>\n",
       "      <td>G18984T;C19220T</td>\n",
       "      <td>ORF1b:M1839I;ORF1b:A1918V</td>\n",
       "      <td>RECOMB,RARE</td>\n",
       "      <td>AY.1</td>\n",
       "      <td>0.011871</td>\n",
       "      <td>42</td>\n",
       "      <td>2</td>\n",
       "      <td>714</td>\n",
       "      <td>0.058824</td>\n",
       "    </tr>\n",
       "    <tr>\n",
       "      <th>...</th>\n",
       "      <td>...</td>\n",
       "      <td>...</td>\n",
       "      <td>...</td>\n",
       "      <td>...</td>\n",
       "      <td>...</td>\n",
       "      <td>...</td>\n",
       "      <td>...</td>\n",
       "      <td>...</td>\n",
       "      <td>...</td>\n",
       "    </tr>\n",
       "    <tr>\n",
       "      <th>492</th>\n",
       "      <td>G28326T;C28432T</td>\n",
       "      <td>N:G18V;N:F53F</td>\n",
       "      <td>RECOMB,RARE</td>\n",
       "      <td>BE.1.1.2</td>\n",
       "      <td>0.000199</td>\n",
       "      <td>1</td>\n",
       "      <td>9</td>\n",
       "      <td>26</td>\n",
       "      <td>0.038462</td>\n",
       "    </tr>\n",
       "    <tr>\n",
       "      <th>543</th>\n",
       "      <td>G29050A;C29149T</td>\n",
       "      <td>N:R259R;N:I292I</td>\n",
       "      <td>RECOMB,RARE</td>\n",
       "      <td>AY.3.1</td>\n",
       "      <td>0.001558</td>\n",
       "      <td>26</td>\n",
       "      <td>9</td>\n",
       "      <td>123</td>\n",
       "      <td>0.211382</td>\n",
       "    </tr>\n",
       "    <tr>\n",
       "      <th>112</th>\n",
       "      <td>A29301G;G29402T</td>\n",
       "      <td>N:D343G;N:D377Y</td>\n",
       "      <td>RECOMB,RARE</td>\n",
       "      <td>B.1.1.529</td>\n",
       "      <td>0.025224</td>\n",
       "      <td>45</td>\n",
       "      <td>22</td>\n",
       "      <td>278</td>\n",
       "      <td>0.161871</td>\n",
       "    </tr>\n",
       "    <tr>\n",
       "      <th>684</th>\n",
       "      <td>T28382C;C28432T</td>\n",
       "      <td>N:S37P;N:F53F</td>\n",
       "      <td>RECOMB,RARE</td>\n",
       "      <td>B.1.1.1</td>\n",
       "      <td>0.002249</td>\n",
       "      <td>7</td>\n",
       "      <td>50</td>\n",
       "      <td>68</td>\n",
       "      <td>0.102941</td>\n",
       "    </tr>\n",
       "    <tr>\n",
       "      <th>402</th>\n",
       "      <td>G17122T;A17236G</td>\n",
       "      <td>ORF1b:A1219S;ORF1b:I1257V</td>\n",
       "      <td>RECOMB,RARE</td>\n",
       "      <td>AY.100</td>\n",
       "      <td>0.001482</td>\n",
       "      <td>139</td>\n",
       "      <td>99</td>\n",
       "      <td>346</td>\n",
       "      <td>0.401734</td>\n",
       "    </tr>\n",
       "  </tbody>\n",
       "</table>\n",
       "<p>121 rows × 9 columns</p>\n",
       "</div>"
      ],
      "text/plain": [
       "         Nt Mutation                AA Mutation     Category Highest Lineage  \\\n",
       "356    C6312A;C6402T  ORF1a:T2016K;ORF1a:P2046L  RECOMB,RARE       AY.46.6.1   \n",
       "452  G25135T;G25337T          S:K1191N;S:D1259Y  RECOMB,RARE          AY.4.5   \n",
       "445  G24781T;G24914C          S:K1073N;S:D1118H  RECOMB,RARE             Q.1   \n",
       "441  G23522C;G23593T            S:E654Q;S:Q677H  RECOMB,RARE           B.1.2   \n",
       "418  G18984T;C19220T  ORF1b:M1839I;ORF1b:A1918V  RECOMB,RARE            AY.1   \n",
       "..               ...                        ...          ...             ...   \n",
       "492  G28326T;C28432T              N:G18V;N:F53F  RECOMB,RARE        BE.1.1.2   \n",
       "543  G29050A;C29149T            N:R259R;N:I292I  RECOMB,RARE          AY.3.1   \n",
       "112  A29301G;G29402T            N:D343G;N:D377Y  RECOMB,RARE       B.1.1.529   \n",
       "684  T28382C;C28432T              N:S37P;N:F53F  RECOMB,RARE         B.1.1.1   \n",
       "402  G17122T;A17236G  ORF1b:A1219S;ORF1b:I1257V  RECOMB,RARE          AY.100   \n",
       "\n",
       "     Highest Prev Rate  Highest Occ  Site  GISAID Count  Lineage Purity  \n",
       "356           0.005495            1     2           542        0.001845  \n",
       "452           0.005817           99     2           109        0.908257  \n",
       "445           0.000582            4     2           440        0.009091  \n",
       "441           0.000471           69     2            85        0.811765  \n",
       "418           0.011871           42     2           714        0.058824  \n",
       "..                 ...          ...   ...           ...             ...  \n",
       "492           0.000199            1     9            26        0.038462  \n",
       "543           0.001558           26     9           123        0.211382  \n",
       "112           0.025224           45    22           278        0.161871  \n",
       "684           0.002249            7    50            68        0.102941  \n",
       "402           0.001482          139    99           346        0.401734  \n",
       "\n",
       "[121 rows x 9 columns]"
      ]
     },
     "execution_count": 51,
     "metadata": {},
     "output_type": "execute_result"
    }
   ],
   "source": [
    "result_df[(result_df['Category'] == 'RECOMB,RARE') & (result_df['Lineage Purity'] <= 1)].sort_values(by=['Site'])"
   ]
  },
  {
   "cell_type": "code",
   "execution_count": 52,
   "metadata": {},
   "outputs": [],
   "source": [
    "#quary_mutation_set({'A29301G', 'G29402T'})"
   ]
  },
  {
   "cell_type": "code",
   "execution_count": 53,
   "metadata": {},
   "outputs": [
    {
     "data": {
      "text/html": [
       "<div>\n",
       "<style scoped>\n",
       "    .dataframe tbody tr th:only-of-type {\n",
       "        vertical-align: middle;\n",
       "    }\n",
       "\n",
       "    .dataframe tbody tr th {\n",
       "        vertical-align: top;\n",
       "    }\n",
       "\n",
       "    .dataframe thead th {\n",
       "        text-align: right;\n",
       "    }\n",
       "</style>\n",
       "<table border=\"1\" class=\"dataframe\">\n",
       "  <thead>\n",
       "    <tr style=\"text-align: right;\">\n",
       "      <th></th>\n",
       "      <th>Date</th>\n",
       "      <th>Site</th>\n",
       "      <th>Nt Mutations</th>\n",
       "      <th>AA Mutations</th>\n",
       "      <th>Support DP</th>\n",
       "      <th>Total DP</th>\n",
       "      <th>Combined Freq</th>\n",
       "    </tr>\n",
       "  </thead>\n",
       "  <tbody>\n",
       "    <tr>\n",
       "      <th>19</th>\n",
       "      <td>2022-01-06</td>\n",
       "      <td>IA</td>\n",
       "      <td>A29301G;G29402T</td>\n",
       "      <td>N:D343G;N:D377Y</td>\n",
       "      <td>6</td>\n",
       "      <td>406</td>\n",
       "      <td>0.014778</td>\n",
       "    </tr>\n",
       "    <tr>\n",
       "      <th>11060</th>\n",
       "      <td>2021-12-23</td>\n",
       "      <td>76</td>\n",
       "      <td>A29301G;G29402T</td>\n",
       "      <td>N:D343G;N:D377Y</td>\n",
       "      <td>26</td>\n",
       "      <td>1856</td>\n",
       "      <td>0.014009</td>\n",
       "    </tr>\n",
       "    <tr>\n",
       "      <th>11084</th>\n",
       "      <td>2021-12-23</td>\n",
       "      <td>CD</td>\n",
       "      <td>A29301G;G29402T</td>\n",
       "      <td>N:D343G;N:D377Y</td>\n",
       "      <td>65</td>\n",
       "      <td>1213</td>\n",
       "      <td>0.053586</td>\n",
       "    </tr>\n",
       "    <tr>\n",
       "      <th>11106</th>\n",
       "      <td>2021-12-23</td>\n",
       "      <td>EH</td>\n",
       "      <td>A29301G;G29402T</td>\n",
       "      <td>N:D343G;N:D377Y</td>\n",
       "      <td>35</td>\n",
       "      <td>2949</td>\n",
       "      <td>0.011868</td>\n",
       "    </tr>\n",
       "    <tr>\n",
       "      <th>11122</th>\n",
       "      <td>2021-12-23</td>\n",
       "      <td>FC</td>\n",
       "      <td>A29301G;G29402T</td>\n",
       "      <td>N:D343G;N:D377Y</td>\n",
       "      <td>88</td>\n",
       "      <td>3445</td>\n",
       "      <td>0.025544</td>\n",
       "    </tr>\n",
       "    <tr>\n",
       "      <th>11123</th>\n",
       "      <td>2021-12-23</td>\n",
       "      <td>GR</td>\n",
       "      <td>A29301G;G29402T</td>\n",
       "      <td>N:D343G;N:D377Y</td>\n",
       "      <td>14</td>\n",
       "      <td>1283</td>\n",
       "      <td>0.010912</td>\n",
       "    </tr>\n",
       "    <tr>\n",
       "      <th>11153</th>\n",
       "      <td>2021-12-23</td>\n",
       "      <td>HO</td>\n",
       "      <td>A29301G;G29402T</td>\n",
       "      <td>N:D343G;N:D377Y</td>\n",
       "      <td>123</td>\n",
       "      <td>2568</td>\n",
       "      <td>0.047897</td>\n",
       "    </tr>\n",
       "    <tr>\n",
       "      <th>11162</th>\n",
       "      <td>2021-12-23</td>\n",
       "      <td>IV</td>\n",
       "      <td>A29301G;G29402T</td>\n",
       "      <td>N:D343G;N:D377Y</td>\n",
       "      <td>42</td>\n",
       "      <td>1239</td>\n",
       "      <td>0.033898</td>\n",
       "    </tr>\n",
       "    <tr>\n",
       "      <th>11170</th>\n",
       "      <td>2021-12-23</td>\n",
       "      <td>KW</td>\n",
       "      <td>A29301G;G29402T</td>\n",
       "      <td>N:D343G;N:D377Y</td>\n",
       "      <td>59</td>\n",
       "      <td>3367</td>\n",
       "      <td>0.017523</td>\n",
       "    </tr>\n",
       "    <tr>\n",
       "      <th>11174</th>\n",
       "      <td>2021-12-23</td>\n",
       "      <td>KWW</td>\n",
       "      <td>A29301G;G29402T</td>\n",
       "      <td>N:D343G;N:D377Y</td>\n",
       "      <td>111</td>\n",
       "      <td>2457</td>\n",
       "      <td>0.045177</td>\n",
       "    </tr>\n",
       "    <tr>\n",
       "      <th>11181</th>\n",
       "      <td>2021-12-23</td>\n",
       "      <td>MC</td>\n",
       "      <td>A29301G;G29402T</td>\n",
       "      <td>N:D343G;N:D377Y</td>\n",
       "      <td>70</td>\n",
       "      <td>1854</td>\n",
       "      <td>0.037756</td>\n",
       "    </tr>\n",
       "    <tr>\n",
       "      <th>11185</th>\n",
       "      <td>2021-12-23</td>\n",
       "      <td>NG</td>\n",
       "      <td>A29301G;G29402T</td>\n",
       "      <td>N:D343G;N:D377Y</td>\n",
       "      <td>28</td>\n",
       "      <td>1600</td>\n",
       "      <td>0.017500</td>\n",
       "    </tr>\n",
       "    <tr>\n",
       "      <th>11189</th>\n",
       "      <td>2021-12-23</td>\n",
       "      <td>NO</td>\n",
       "      <td>A29301G;G29402T</td>\n",
       "      <td>N:D343G;N:D377Y</td>\n",
       "      <td>21</td>\n",
       "      <td>1198</td>\n",
       "      <td>0.017529</td>\n",
       "    </tr>\n",
       "    <tr>\n",
       "      <th>11194</th>\n",
       "      <td>2021-12-23</td>\n",
       "      <td>NW</td>\n",
       "      <td>A29301G;G29402T</td>\n",
       "      <td>N:D343G;N:D377Y</td>\n",
       "      <td>18</td>\n",
       "      <td>1233</td>\n",
       "      <td>0.014599</td>\n",
       "    </tr>\n",
       "    <tr>\n",
       "      <th>11202</th>\n",
       "      <td>2021-12-23</td>\n",
       "      <td>PT</td>\n",
       "      <td>A29301G;G29402T</td>\n",
       "      <td>N:D343G;N:D377Y</td>\n",
       "      <td>45</td>\n",
       "      <td>2095</td>\n",
       "      <td>0.021480</td>\n",
       "    </tr>\n",
       "    <tr>\n",
       "      <th>11210</th>\n",
       "      <td>2021-12-23</td>\n",
       "      <td>SB</td>\n",
       "      <td>A29301G;G29402T</td>\n",
       "      <td>N:D343G;N:D377Y</td>\n",
       "      <td>13</td>\n",
       "      <td>1193</td>\n",
       "      <td>0.010897</td>\n",
       "    </tr>\n",
       "    <tr>\n",
       "      <th>11227</th>\n",
       "      <td>2021-12-23</td>\n",
       "      <td>SS</td>\n",
       "      <td>A29301G;G29402T</td>\n",
       "      <td>N:D343G;N:D377Y</td>\n",
       "      <td>25</td>\n",
       "      <td>1786</td>\n",
       "      <td>0.013998</td>\n",
       "    </tr>\n",
       "    <tr>\n",
       "      <th>11231</th>\n",
       "      <td>2021-12-23</td>\n",
       "      <td>TT</td>\n",
       "      <td>A29301G;G29402T</td>\n",
       "      <td>N:D343G;N:D377Y</td>\n",
       "      <td>116</td>\n",
       "      <td>1758</td>\n",
       "      <td>0.065984</td>\n",
       "    </tr>\n",
       "    <tr>\n",
       "      <th>11236</th>\n",
       "      <td>2021-12-23</td>\n",
       "      <td>UB</td>\n",
       "      <td>A29301G;G29402T</td>\n",
       "      <td>N:D343G;N:D377Y</td>\n",
       "      <td>30</td>\n",
       "      <td>1840</td>\n",
       "      <td>0.016304</td>\n",
       "    </tr>\n",
       "    <tr>\n",
       "      <th>11246</th>\n",
       "      <td>2021-12-23</td>\n",
       "      <td>WD</td>\n",
       "      <td>A29301G;G29402T</td>\n",
       "      <td>N:D343G;N:D377Y</td>\n",
       "      <td>70</td>\n",
       "      <td>3866</td>\n",
       "      <td>0.018107</td>\n",
       "    </tr>\n",
       "    <tr>\n",
       "      <th>11249</th>\n",
       "      <td>2021-12-23</td>\n",
       "      <td>WL</td>\n",
       "      <td>A29301G;G29402T</td>\n",
       "      <td>N:D343G;N:D377Y</td>\n",
       "      <td>68</td>\n",
       "      <td>2962</td>\n",
       "      <td>0.022957</td>\n",
       "    </tr>\n",
       "    <tr>\n",
       "      <th>11271</th>\n",
       "      <td>2021-12-30</td>\n",
       "      <td>69</td>\n",
       "      <td>A29301G;G29402T</td>\n",
       "      <td>N:D343G;N:D377Y</td>\n",
       "      <td>25</td>\n",
       "      <td>2352</td>\n",
       "      <td>0.010629</td>\n",
       "    </tr>\n",
       "  </tbody>\n",
       "</table>\n",
       "</div>"
      ],
      "text/plain": [
       "            Date Site     Nt Mutations     AA Mutations  Support DP  Total DP  \\\n",
       "19    2022-01-06   IA  A29301G;G29402T  N:D343G;N:D377Y           6       406   \n",
       "11060 2021-12-23   76  A29301G;G29402T  N:D343G;N:D377Y          26      1856   \n",
       "11084 2021-12-23   CD  A29301G;G29402T  N:D343G;N:D377Y          65      1213   \n",
       "11106 2021-12-23   EH  A29301G;G29402T  N:D343G;N:D377Y          35      2949   \n",
       "11122 2021-12-23   FC  A29301G;G29402T  N:D343G;N:D377Y          88      3445   \n",
       "11123 2021-12-23   GR  A29301G;G29402T  N:D343G;N:D377Y          14      1283   \n",
       "11153 2021-12-23   HO  A29301G;G29402T  N:D343G;N:D377Y         123      2568   \n",
       "11162 2021-12-23   IV  A29301G;G29402T  N:D343G;N:D377Y          42      1239   \n",
       "11170 2021-12-23   KW  A29301G;G29402T  N:D343G;N:D377Y          59      3367   \n",
       "11174 2021-12-23  KWW  A29301G;G29402T  N:D343G;N:D377Y         111      2457   \n",
       "11181 2021-12-23   MC  A29301G;G29402T  N:D343G;N:D377Y          70      1854   \n",
       "11185 2021-12-23   NG  A29301G;G29402T  N:D343G;N:D377Y          28      1600   \n",
       "11189 2021-12-23   NO  A29301G;G29402T  N:D343G;N:D377Y          21      1198   \n",
       "11194 2021-12-23   NW  A29301G;G29402T  N:D343G;N:D377Y          18      1233   \n",
       "11202 2021-12-23   PT  A29301G;G29402T  N:D343G;N:D377Y          45      2095   \n",
       "11210 2021-12-23   SB  A29301G;G29402T  N:D343G;N:D377Y          13      1193   \n",
       "11227 2021-12-23   SS  A29301G;G29402T  N:D343G;N:D377Y          25      1786   \n",
       "11231 2021-12-23   TT  A29301G;G29402T  N:D343G;N:D377Y         116      1758   \n",
       "11236 2021-12-23   UB  A29301G;G29402T  N:D343G;N:D377Y          30      1840   \n",
       "11246 2021-12-23   WD  A29301G;G29402T  N:D343G;N:D377Y          70      3866   \n",
       "11249 2021-12-23   WL  A29301G;G29402T  N:D343G;N:D377Y          68      2962   \n",
       "11271 2021-12-30   69  A29301G;G29402T  N:D343G;N:D377Y          25      2352   \n",
       "\n",
       "       Combined Freq  \n",
       "19          0.014778  \n",
       "11060       0.014009  \n",
       "11084       0.053586  \n",
       "11106       0.011868  \n",
       "11122       0.025544  \n",
       "11123       0.010912  \n",
       "11153       0.047897  \n",
       "11162       0.033898  \n",
       "11170       0.017523  \n",
       "11174       0.045177  \n",
       "11181       0.037756  \n",
       "11185       0.017500  \n",
       "11189       0.017529  \n",
       "11194       0.014599  \n",
       "11202       0.021480  \n",
       "11210       0.010897  \n",
       "11227       0.013998  \n",
       "11231       0.065984  \n",
       "11236       0.016304  \n",
       "11246       0.018107  \n",
       "11249       0.022957  \n",
       "11271       0.010629  "
      ]
     },
     "execution_count": 53,
     "metadata": {},
     "output_type": "execute_result"
    }
   ],
   "source": [
    "incl_merged_df[incl_merged_df['Nt Mutations'] == 'A29301G;G29402T']"
   ]
  },
  {
   "cell_type": "code",
   "execution_count": 54,
   "metadata": {},
   "outputs": [
    {
     "data": {
      "text/html": [
       "<div>\n",
       "<style scoped>\n",
       "    .dataframe tbody tr th:only-of-type {\n",
       "        vertical-align: middle;\n",
       "    }\n",
       "\n",
       "    .dataframe tbody tr th {\n",
       "        vertical-align: top;\n",
       "    }\n",
       "\n",
       "    .dataframe thead th {\n",
       "        text-align: right;\n",
       "    }\n",
       "</style>\n",
       "<table border=\"1\" class=\"dataframe\">\n",
       "  <thead>\n",
       "    <tr style=\"text-align: right;\">\n",
       "      <th></th>\n",
       "      <th>Category</th>\n",
       "    </tr>\n",
       "    <tr>\n",
       "      <th>Category</th>\n",
       "      <th></th>\n",
       "    </tr>\n",
       "  </thead>\n",
       "  <tbody>\n",
       "    <tr>\n",
       "      <th>ANCHOR,NOVAL</th>\n",
       "      <td>72</td>\n",
       "    </tr>\n",
       "    <tr>\n",
       "      <th>ANCHOR,RARE</th>\n",
       "      <td>476</td>\n",
       "    </tr>\n",
       "    <tr>\n",
       "      <th>NO_ANCHOR,NOVAL</th>\n",
       "      <td>18</td>\n",
       "    </tr>\n",
       "    <tr>\n",
       "      <th>NO_ANCHOR,RARE</th>\n",
       "      <td>26</td>\n",
       "    </tr>\n",
       "    <tr>\n",
       "      <th>RECOMB,NOVAL</th>\n",
       "      <td>3</td>\n",
       "    </tr>\n",
       "    <tr>\n",
       "      <th>RECOMB,RARE</th>\n",
       "      <td>121</td>\n",
       "    </tr>\n",
       "  </tbody>\n",
       "</table>\n",
       "</div>"
      ],
      "text/plain": [
       "                 Category\n",
       "Category                 \n",
       "ANCHOR,NOVAL           72\n",
       "ANCHOR,RARE           476\n",
       "NO_ANCHOR,NOVAL        18\n",
       "NO_ANCHOR,RARE         26\n",
       "RECOMB,NOVAL            3\n",
       "RECOMB,RARE           121"
      ]
     },
     "execution_count": 54,
     "metadata": {},
     "output_type": "execute_result"
    }
   ],
   "source": [
    "bar_df = pd.DataFrame(result_df.groupby(['Category'])['Category'].count())\n",
    "bar_df"
   ]
  },
  {
   "cell_type": "code",
   "execution_count": 56,
   "metadata": {},
   "outputs": [
    {
     "data": {
      "text/plain": [
       "Category    716\n",
       "dtype: int64"
      ]
     },
     "execution_count": 56,
     "metadata": {},
     "output_type": "execute_result"
    }
   ],
   "source": [
    "bar_df.sum()"
   ]
  },
  {
   "cell_type": "code",
   "execution_count": 57,
   "metadata": {},
   "outputs": [
    {
     "data": {
      "text/plain": [
       "<matplotlib.legend.Legend at 0x7f873e0928d0>"
      ]
     },
     "execution_count": 57,
     "metadata": {},
     "output_type": "execute_result"
    },
    {
     "data": {
      "image/png": "[encoded data removed]",
      "text/plain": [
       "<Figure size 720x432 with 1 Axes>"
      ]
     },
     "metadata": {
      "needs_background": "light"
     },
     "output_type": "display_data"
    }
   ],
   "source": [
    "fontsize = 14\n",
    "fig, ax  = plt.subplots(1, 1, figsize=(10, 6))\n",
    "\n",
    "x_axis = np.arange(len(bar_df.index)/2)\n",
    "\n",
    "bar1 = ax.bar(x_axis-0.16, bar_df['Category'].values[0::2], width=0.3, label='Noval')\n",
    "bar2 = ax.bar(x_axis+0.16, bar_df['Category'].values[1::2], width=0.3, label='Rare')\n",
    "\n",
    "labels = ['Single Signature Variant', 'No Signature Variant', 'Multiple Signature Variants']\n",
    "\n",
    "ax.set_xticks(x_axis)\n",
    "ax.set_xticklabels(labels, fontsize=fontsize)\n",
    "ax.set_ylim(0,550)\n",
    "\n",
    "for bar in ax.patches:\n",
    "    ax.annotate(format(bar.get_height(), '.0f'),\n",
    "                   (bar.get_x() + bar.get_width() / 2,\n",
    "                    bar.get_height()), ha='center', va='center',\n",
    "                   size=fontsize, xytext=(0, 8),\n",
    "                   textcoords='offset points')\n",
    "\n",
    "ax.legend(fontsize=fontsize)"
   ]
  },
  {
   "cell_type": "markdown",
   "metadata": {},
   "source": [
    "## RECOMB,NOVAL"
   ]
  },
  {
   "cell_type": "code",
   "execution_count": null,
   "metadata": {},
   "outputs": [],
   "source": [
    "for mutation, row in excl_selected_data[excl_selected_data['GISAID Count'] <= 0].sort_values(['Mutation Occurance'], ascending=False).iterrows():\n",
    "    category, highest_lineage, prev = quary_mutation_set(set(mutation.split(';')))\n",
    "    \n",
    "    if category == 'RECOMB,NOVAL':\n",
    "        print(mutation, '\\t', excl_merged_df[excl_merged_df['Nt Mutations'] == mutation]['AA Mutations'].unique(), '\\t', category, '\\t', highest_lineage, '\\t', prev)"
   ]
  },
  {
   "cell_type": "markdown",
   "metadata": {},
   "source": [
    "### ORF1b:P314C"
   ]
  },
  {
   "cell_type": "code",
   "execution_count": 459,
   "metadata": {},
   "outputs": [
    {
     "data": {
      "text/html": [
       "<div>\n",
       "<style scoped>\n",
       "    .dataframe tbody tr th:only-of-type {\n",
       "        vertical-align: middle;\n",
       "    }\n",
       "\n",
       "    .dataframe tbody tr th {\n",
       "        vertical-align: top;\n",
       "    }\n",
       "\n",
       "    .dataframe thead th {\n",
       "        text-align: right;\n",
       "    }\n",
       "</style>\n",
       "<table border=\"1\" class=\"dataframe\">\n",
       "  <thead>\n",
       "    <tr style=\"text-align: right;\">\n",
       "      <th></th>\n",
       "      <th>Date</th>\n",
       "      <th>Site</th>\n",
       "      <th>Nt Mutations</th>\n",
       "      <th>AA Mutations</th>\n",
       "      <th>Support DP</th>\n",
       "      <th>Total DP</th>\n",
       "      <th>Combined Freq</th>\n",
       "    </tr>\n",
       "  </thead>\n",
       "  <tbody>\n",
       "    <tr>\n",
       "      <th>4914</th>\n",
       "      <td>2022-05-19</td>\n",
       "      <td>KB</td>\n",
       "      <td>A28870T;G28881A;G28916T</td>\n",
       "      <td>N:P199P;N:R203K;N:G215C</td>\n",
       "      <td>36</td>\n",
       "      <td>460</td>\n",
       "      <td>0.078261</td>\n",
       "    </tr>\n",
       "    <tr>\n",
       "      <th>6163</th>\n",
       "      <td>2022-07-14</td>\n",
       "      <td>KB</td>\n",
       "      <td>A28870T;G28881A;G28916T</td>\n",
       "      <td>N:P199P;N:R203K;N:G215C</td>\n",
       "      <td>34</td>\n",
       "      <td>692</td>\n",
       "      <td>0.049133</td>\n",
       "    </tr>\n",
       "    <tr>\n",
       "      <th>7889</th>\n",
       "      <td>2022-09-02</td>\n",
       "      <td>KB</td>\n",
       "      <td>A28870T;G28881A;G28916T</td>\n",
       "      <td>N:P199P;N:R203K;N:G215C</td>\n",
       "      <td>32</td>\n",
       "      <td>791</td>\n",
       "      <td>0.040455</td>\n",
       "    </tr>\n",
       "  </tbody>\n",
       "</table>\n",
       "</div>"
      ],
      "text/plain": [
       "           Date Site             Nt Mutations             AA Mutations  \\\n",
       "4914 2022-05-19   KB  A28870T;G28881A;G28916T  N:P199P;N:R203K;N:G215C   \n",
       "6163 2022-07-14   KB  A28870T;G28881A;G28916T  N:P199P;N:R203K;N:G215C   \n",
       "7889 2022-09-02   KB  A28870T;G28881A;G28916T  N:P199P;N:R203K;N:G215C   \n",
       "\n",
       "      Support DP  Total DP  Combined Freq  \n",
       "4914          36       460       0.078261  \n",
       "6163          34       692       0.049133  \n",
       "7889          32       791       0.040455  "
      ]
     },
     "execution_count": 459,
     "metadata": {},
     "output_type": "execute_result"
    }
   ],
   "source": [
    "excl_merged_df[excl_merged_df['Nt Mutations'] == 'A28870T;G28881A;G28916T']"
   ]
  },
  {
   "cell_type": "code",
   "execution_count": 458,
   "metadata": {},
   "outputs": [
    {
     "data": {
      "text/html": [
       "<div>\n",
       "<style scoped>\n",
       "    .dataframe tbody tr th:only-of-type {\n",
       "        vertical-align: middle;\n",
       "    }\n",
       "\n",
       "    .dataframe tbody tr th {\n",
       "        vertical-align: top;\n",
       "    }\n",
       "\n",
       "    .dataframe thead th {\n",
       "        text-align: right;\n",
       "    }\n",
       "</style>\n",
       "<table border=\"1\" class=\"dataframe\">\n",
       "  <thead>\n",
       "    <tr style=\"text-align: right;\">\n",
       "      <th></th>\n",
       "      <th>Date</th>\n",
       "      <th>Site</th>\n",
       "      <th>Nt Mutations</th>\n",
       "      <th>AA Mutations</th>\n",
       "      <th>Support DP</th>\n",
       "      <th>Total DP</th>\n",
       "      <th>Combined Freq</th>\n",
       "    </tr>\n",
       "  </thead>\n",
       "  <tbody>\n",
       "    <tr>\n",
       "      <th>2378</th>\n",
       "      <td>2021-03-22</td>\n",
       "      <td>KWW</td>\n",
       "      <td>C14407T;C14408G</td>\n",
       "      <td>ORF1b:P314S;ORF1b:P314R</td>\n",
       "      <td>112</td>\n",
       "      <td>1284</td>\n",
       "      <td>0.087227</td>\n",
       "    </tr>\n",
       "    <tr>\n",
       "      <th>4560</th>\n",
       "      <td>2021-05-10</td>\n",
       "      <td>KWW</td>\n",
       "      <td>C14407T;C14408G</td>\n",
       "      <td>ORF1b:P314S;ORF1b:P314R</td>\n",
       "      <td>182</td>\n",
       "      <td>874</td>\n",
       "      <td>0.208238</td>\n",
       "    </tr>\n",
       "  </tbody>\n",
       "</table>\n",
       "</div>"
      ],
      "text/plain": [
       "           Date Site     Nt Mutations             AA Mutations  Support DP  \\\n",
       "2378 2021-03-22  KWW  C14407T;C14408G  ORF1b:P314S;ORF1b:P314R         112   \n",
       "4560 2021-05-10  KWW  C14407T;C14408G  ORF1b:P314S;ORF1b:P314R         182   \n",
       "\n",
       "      Total DP  Combined Freq  \n",
       "2378      1284       0.087227  \n",
       "4560       874       0.208238  "
      ]
     },
     "execution_count": 458,
     "metadata": {},
     "output_type": "execute_result"
    }
   ],
   "source": [
    "excl_merged_df[excl_merged_df['Nt Mutations'] == 'C14407T;C14408G']"
   ]
  },
  {
   "cell_type": "code",
   "execution_count": 460,
   "metadata": {},
   "outputs": [
    {
     "data": {
      "text/html": [
       "<div>\n",
       "<style scoped>\n",
       "    .dataframe tbody tr th:only-of-type {\n",
       "        vertical-align: middle;\n",
       "    }\n",
       "\n",
       "    .dataframe tbody tr th {\n",
       "        vertical-align: top;\n",
       "    }\n",
       "\n",
       "    .dataframe thead th {\n",
       "        text-align: right;\n",
       "    }\n",
       "</style>\n",
       "<table border=\"1\" class=\"dataframe\">\n",
       "  <thead>\n",
       "    <tr style=\"text-align: right;\">\n",
       "      <th></th>\n",
       "      <th>Date</th>\n",
       "      <th>Site</th>\n",
       "      <th>Nt Mutations</th>\n",
       "      <th>AA Mutations</th>\n",
       "      <th>Support DP</th>\n",
       "      <th>Total DP</th>\n",
       "      <th>Combined Freq</th>\n",
       "    </tr>\n",
       "  </thead>\n",
       "  <tbody>\n",
       "    <tr>\n",
       "      <th>8845</th>\n",
       "      <td>2021-09-27</td>\n",
       "      <td>HO</td>\n",
       "      <td>C2061T;T2158A</td>\n",
       "      <td>ORF1a:A599V;ORF1a:L631L</td>\n",
       "      <td>15</td>\n",
       "      <td>271</td>\n",
       "      <td>0.055351</td>\n",
       "    </tr>\n",
       "    <tr>\n",
       "      <th>9273</th>\n",
       "      <td>2021-10-11</td>\n",
       "      <td>HO</td>\n",
       "      <td>C2061T;T2158A</td>\n",
       "      <td>ORF1a:A599V;ORF1a:L631L</td>\n",
       "      <td>14</td>\n",
       "      <td>437</td>\n",
       "      <td>0.032037</td>\n",
       "    </tr>\n",
       "  </tbody>\n",
       "</table>\n",
       "</div>"
      ],
      "text/plain": [
       "           Date Site   Nt Mutations             AA Mutations  Support DP  \\\n",
       "8845 2021-09-27   HO  C2061T;T2158A  ORF1a:A599V;ORF1a:L631L          15   \n",
       "9273 2021-10-11   HO  C2061T;T2158A  ORF1a:A599V;ORF1a:L631L          14   \n",
       "\n",
       "      Total DP  Combined Freq  \n",
       "8845       271       0.055351  \n",
       "9273       437       0.032037  "
      ]
     },
     "execution_count": 460,
     "metadata": {},
     "output_type": "execute_result"
    }
   ],
   "source": [
    "excl_merged_df[excl_merged_df['Nt Mutations'] == 'C2061T;T2158A']"
   ]
  },
  {
   "cell_type": "markdown",
   "metadata": {},
   "source": [
    "## ANCHOR,NOVAL / NO_ANCHOR,NOVAL"
   ]
  },
  {
   "cell_type": "code",
   "execution_count": 491,
   "metadata": {},
   "outputs": [
    {
     "name": "stdout",
     "output_type": "stream",
     "text": [
      "C15805A;A15812T \t ['ORF1b:Q780K;ORF1b:N782I'] \t NO_ANCHOR,NOVAL \t None \t 0.0\n",
      "T689A;C690A;T692C;T693C \t ['ORF1a:S142T;ORF1a:S142*;ORF1a:F143L;ORF1a:F143S'] \t NO_ANCHOR,NOVAL \t None \t 0.0\n",
      "G18379A;T18446G \t ['ORF1b:G1638S;ORF1b:V1660G'] \t NO_ANCHOR,NOVAL \t None \t 0.0\n",
      "G28881C;G28895A \t ['N:R203T;N:A208T'] \t NO_ANCHOR,NOVAL \t None \t 0.0\n",
      "G27047C;G27147A \t ['M:T175T;M:D209N'] \t NO_ANCHOR,NOVAL \t None \t 0.0\n",
      "G24197A;C24374A \t ['S:A879T;S:L938I'] \t NO_ANCHOR,NOVAL \t None \t 0.0\n",
      "G18379A;T18510C \t ['ORF1b:G1638S;ORF1b:L1681L'] \t NO_ANCHOR,NOVAL \t None \t 0.0\n",
      "A10195G;G10290T \t ['ORF1a:E3310E;ORF1a:G3342V'] \t NO_ANCHOR,NOVAL \t None \t 0.0\n",
      "G688A;T689G;T692C;T693A \t ['ORF1a:K141K;ORF1a:S142A;ORF1a:F143L;ORF1a:F143Y'] \t NO_ANCHOR,NOVAL \t None \t 0.0\n",
      "T689A;C690A;T692C;T693C;G881T \t ['ORF1a:S142T;ORF1a:S142*;ORF1a:F143L;ORF1a:F143S;ORF1a:A206S'] \t NO_ANCHOR,NOVAL \t None \t 0.0\n",
      "\n",
      "T27835C;G28048A \t ['ORF7b:I27T;ORF8:R52K'] \t ANCHOR,RARE \t XB \t 0.003235294117647059\n",
      "\n",
      "T14233C;T14247C \t ['ORF1b:Y256H;ORF1b:D260D'] \t NO_ANCHOR,NOVAL \t None \t 0.0\n",
      "G18379A;A18517G \t ['ORF1b:G1638S;ORF1b:N1684D'] \t NO_ANCHOR,NOVAL \t None \t 0.0\n",
      "C13680T;A13815C \t ['ORF1b:Y71Y;ORF1b:A116A'] \t NO_ANCHOR,NOVAL \t None \t 0.0\n",
      "A29299G;A29350T \t ['N:K342K;N:A359A'] \t NO_ANCHOR,NOVAL \t None \t 0.0\n",
      "A24936G;A25020C \t ['S:N1125S;S:D1153A'] \t NO_ANCHOR,NOVAL \t None \t 0.0\n",
      "A11983G;G12079T \t ['ORF1a:E3906E;ORF1a:R3938S'] \t NO_ANCHOR,NOVAL \t None \t 0.0\n",
      "A10195G;G10324T \t ['ORF1a:E3310E;ORF1a:K3353N'] \t NO_ANCHOR,NOVAL \t None \t 0.0\n",
      "T7233G;A7234T;G7235T \t ['ORF1a:L2323*;ORF1a:L2323F;ORF1a:V2324F'] \t NO_ANCHOR,NOVAL \t None \t 0.0\n"
     ]
    }
   ],
   "source": [
    "count = 0\n",
    "for mutation, row in excl_selected_data[excl_selected_data['GISAID Count'] <= 0].sort_values(['Mutation Occurance'], ascending=False).iterrows():\n",
    "    category, highest_lineage, prev = quary_mutation_set(set(mutation.split(';')))\n",
    "    \n",
    "    if category == 'ANCHOR,NOVAL':\n",
    "        count += 1\n",
    "        \n",
    "    if category == 'NO_ANCHOR,NOVAL':\n",
    "        print(mutation, '\\t', excl_merged_df[excl_merged_df['Nt Mutations'] == mutation]['AA Mutations'].unique(), '\\t', category, '\\t', highest_lineage, '\\t', prev)\n",
    "        \n",
    "    if 'NOVAL' not in category:\n",
    "        print()\n",
    "        print(mutation, '\\t', excl_merged_df[excl_merged_df['Nt Mutations'] == mutation]['AA Mutations'].unique(), '\\t', category, '\\t', highest_lineage, '\\t', prev)\n",
    "        print()"
   ]
  },
  {
   "cell_type": "code",
   "execution_count": 467,
   "metadata": {},
   "outputs": [
    {
     "data": {
      "text/plain": [
       "0.7684210526315789"
      ]
     },
     "execution_count": 467,
     "metadata": {},
     "output_type": "execute_result"
    }
   ],
   "source": [
    "count/excl_selected_data[excl_selected_data['GISAID Count'] <= 0].shape[0]"
   ]
  },
  {
   "cell_type": "code",
   "execution_count": 490,
   "metadata": {},
   "outputs": [
    {
     "data": {
      "text/plain": [
       "73"
      ]
     },
     "execution_count": 490,
     "metadata": {},
     "output_type": "execute_result"
    }
   ],
   "source": [
    "count"
   ]
  },
  {
   "cell_type": "code",
   "execution_count": 41,
   "metadata": {},
   "outputs": [],
   "source": [
    "def mutation_comb_msa_query(test_set, sublineage_mutations_exist_lookup, genome2snp_dict, output_acc_id=False):\n",
    "    possible_voc_sets = []\n",
    "    for mutation in test_set:\n",
    "        try:\n",
    "            possible_voc_sets.append(sublineage_mutations_exist_lookup[mutation])\n",
    "        except KeyError:\n",
    "            possible_voc_sets.append(set())\n",
    "    lineage_date_combs = set.intersection(*possible_voc_sets)\n",
    "\n",
    "    mutation_prevalence_dict = defaultdict(int)\n",
    "    for lineage_date_comb in lineage_date_combs:\n",
    "        lineage, _ = lineage_date_comb.split(\"/\")\n",
    "        try:\n",
    "            for acc_id in genome2snp_dict[lineage_date_comb]:\n",
    "                if test_set.issubset(genome2snp_dict[lineage_date_comb][acc_id]):\n",
    "                    if output_acc_id:\n",
    "                        print(acc_id)\n",
    "                    mutation_prevalence_dict[lineage] += 1\n",
    "        except KeyError:\n",
    "            continue\n",
    "    return mutation_prevalence_dict"
   ]
  },
  {
   "cell_type": "code",
   "execution_count": 247,
   "metadata": {},
   "outputs": [
    {
     "data": {
      "text/plain": [
       "0                        A13098G;T13195C\n",
       "1                T23599G;C23604A;G23642T\n",
       "2                        A24966T;C25000T\n",
       "3                        A29039T;G29049A\n",
       "4        G28881A;G28882A;G28883C;G28931T\n",
       "                      ...               \n",
       "11474                    C15805A;A15812T\n",
       "11475                    C24130A;A24250G\n",
       "11476                    A24966T;C25000T\n",
       "11477    G28881A;G28882A;G28883C;A29039T\n",
       "11478                    A29039T;G29049A\n",
       "Name: Nt Mutations, Length: 11479, dtype: object"
      ]
     },
     "execution_count": 247,
     "metadata": {},
     "output_type": "execute_result"
    }
   ],
   "source": [
    "incl_merged_df['Nt Mutations'].unique()"
   ]
  },
  {
   "cell_type": "markdown",
   "metadata": {},
   "source": [
    "# Check Database"
   ]
  },
  {
   "cell_type": "code",
   "execution_count": 38,
   "metadata": {},
   "outputs": [],
   "source": [
    "def load_sublineage_mutations_db(quarc_db_path):\n",
    "    file_to_read = open(os.path.join(quarc_db_path, \"mutation0_lookup.pkl\"), \"rb\")\n",
    "    sublineage_mutations_lookup = pickle.load(file_to_read)\n",
    "    return sublineage_mutations_lookup"
   ]
  },
  {
   "cell_type": "code",
   "execution_count": 39,
   "metadata": {},
   "outputs": [],
   "source": [
    "quarc_db_dir = \"quarc_dbs_01102023_incl_recombinant\"\n",
    "\n",
    "file_to_read = open(os.path.join(quarc_db_dir, \"quarc_db.pkl\"), \"rb\")\n",
    "genome2snp_dict = pickle.load(file_to_read)"
   ]
  },
  {
   "cell_type": "code",
   "execution_count": 40,
   "metadata": {},
   "outputs": [],
   "source": [
    "excl_db = load_sublineage_mutations_db('quarc_dbs_01102023_excl_recombinant')\n",
    "incl_db = load_sublineage_mutations_db('quarc_dbs_01102023_incl_recombinant')"
   ]
  },
  {
   "cell_type": "code",
   "execution_count": 41,
   "metadata": {},
   "outputs": [
    {
     "name": "stdout",
     "output_type": "stream",
     "text": [
      "{'XB/2021-05-10'}\n"
     ]
    }
   ],
   "source": [
    "for key in set(incl_db.keys()) - set(excl_db.keys()):\n",
    "    print(incl_db[key])\n",
    "    break"
   ]
  },
  {
   "cell_type": "markdown",
   "metadata": {},
   "source": [
    "# Load Result"
   ]
  },
  {
   "cell_type": "code",
   "execution_count": 24,
   "metadata": {},
   "outputs": [],
   "source": [
    "def load_output_dataframe(output):\n",
    "    merged_df = pd.read_csv('/home/Users/yl181/wastewater/quarc_figures/merged_df.csv', index_col=0)\n",
    "    merged_df['Date'] = merged_df['Date'].apply(str)\n",
    "    merged_df['Date'] = pd.to_datetime(merged_df['Date'], format='%Y-%m-%d')\n",
    "\n",
    "    print(len(merged_df['Nt Mutations'].unique()))\n",
    "    \n",
    "    try:\n",
    "        file_to_read = open(os.path.join(output, \"query_result.pkl\"), \"rb\")\n",
    "        query_result = pickle.load(file_to_read)\n",
    "    except FileNotFoundError:\n",
    "        return merged_df, None\n",
    "    \n",
    "    return merged_df, query_result"
   ]
  },
  {
   "cell_type": "markdown",
   "metadata": {},
   "source": [
    "## Exclude Recombinant"
   ]
  },
  {
   "cell_type": "code",
   "execution_count": 248,
   "metadata": {},
   "outputs": [],
   "source": [
    "output = 'output_excl_recombinant'"
   ]
  },
  {
   "cell_type": "code",
   "execution_count": 251,
   "metadata": {},
   "outputs": [
    {
     "name": "stdout",
     "output_type": "stream",
     "text": [
      "7024\n"
     ]
    }
   ],
   "source": [
    "excl_merged_df, excl_query_result = load_output_dataframe(output)"
   ]
  },
  {
   "cell_type": "code",
   "execution_count": 252,
   "metadata": {},
   "outputs": [],
   "source": [
    "count_rarity_dict = dict()\n",
    "for key in excl_query_result:\n",
    "    count_rarity_dict[key] = sum(excl_query_result[key].values())\n",
    "gisaid_count_df = pd.DataFrame.from_dict(count_rarity_dict, columns=['GISAID Count'], orient='index')\n",
    "\n",
    "site_count_df = pd.DataFrame(excl_merged_df.groupby('Nt Mutations')['Site'].count())\n",
    "mutation_rarity_df = site_count_df.merge(gisaid_count_df, left_index=True, right_index=True, validate='one_to_one')"
   ]
  },
  {
   "cell_type": "code",
   "execution_count": 253,
   "metadata": {},
   "outputs": [
    {
     "name": "stdout",
     "output_type": "stream",
     "text": [
      "max_gisaid_occurance: 1298.8493\n"
     ]
    },
    {
     "data": {
      "text/plain": [
       "762"
      ]
     },
     "execution_count": 253,
     "metadata": {},
     "output_type": "execute_result"
    }
   ],
   "source": [
    "min_site = 2\n",
    "max_gisaid_occurance = 0.0001 * gisaid_total_count\n",
    "print('max_gisaid_occurance:', max_gisaid_occurance)\n",
    "\n",
    "selected_data = mutation_rarity_df[(mutation_rarity_df['Site'] >= min_site) & (mutation_rarity_df['GISAID Count'] <= max_gisaid_occurance)].copy()\n",
    "excl_selected_data = selected_data.rename({'Site': 'Mutation Occurance'}, axis=1)\n",
    "len(excl_selected_data)"
   ]
  },
  {
   "cell_type": "markdown",
   "metadata": {},
   "source": [
    "## Include Recombinant"
   ]
  },
  {
   "cell_type": "code",
   "execution_count": 25,
   "metadata": {},
   "outputs": [],
   "source": [
    "output = 'output_incl_recombinant'"
   ]
  },
  {
   "cell_type": "code",
   "execution_count": 32,
   "metadata": {},
   "outputs": [
    {
     "name": "stdout",
     "output_type": "stream",
     "text": [
      "6818\n"
     ]
    }
   ],
   "source": [
    "incl_merged_df, incl_query_result = load_output_dataframe(output)"
   ]
  },
  {
   "cell_type": "code",
   "execution_count": 35,
   "metadata": {},
   "outputs": [],
   "source": [
    "count_rarity_dict = dict()\n",
    "for key in incl_query_result:\n",
    "    count_rarity_dict[key] = sum(incl_query_result[key].values())\n",
    "gisaid_count_df = pd.DataFrame.from_dict(count_rarity_dict, columns=['GISAID Count'], orient='index')\n",
    "\n",
    "site_count_df = pd.DataFrame(incl_merged_df.groupby('Nt Mutations')['Site'].count())\n",
    "mutation_rarity_df = site_count_df.merge(gisaid_count_df, left_index=True, right_index=True, validate='one_to_one')"
   ]
  },
  {
   "cell_type": "code",
   "execution_count": 36,
   "metadata": {},
   "outputs": [
    {
     "name": "stdout",
     "output_type": "stream",
     "text": [
      "max_gisaid_occurance: 1298.8493\n"
     ]
    },
    {
     "data": {
      "text/plain": [
       "716"
      ]
     },
     "execution_count": 36,
     "metadata": {},
     "output_type": "execute_result"
    }
   ],
   "source": [
    "min_site = 2\n",
    "max_gisaid_occurance = 0.0001 * gisaid_total_count\n",
    "print('max_gisaid_occurance:', max_gisaid_occurance)\n",
    "\n",
    "selected_data = mutation_rarity_df[(mutation_rarity_df['Site'] >= min_site) & (mutation_rarity_df['GISAID Count'] <= max_gisaid_occurance)].copy()\n",
    "incl_selected_data = selected_data.rename({'Site': 'Mutation Occurance'}, axis=1)\n",
    "len(incl_selected_data)"
   ]
  },
  {
   "cell_type": "markdown",
   "metadata": {},
   "source": [
    "# Recombinate Lineages"
   ]
  },
  {
   "cell_type": "code",
   "execution_count": 475,
   "metadata": {},
   "outputs": [],
   "source": [
    "lineages = set(excl_merged_df['Nt Mutations'].unique()) - set(incl_merged_df['Nt Mutations'].unique())"
   ]
  },
  {
   "cell_type": "code",
   "execution_count": 485,
   "metadata": {},
   "outputs": [
    {
     "name": "stdout",
     "output_type": "stream",
     "text": [
      "A28461G;G28562A \t ['N:D63G;N:G97S'] \t RECOMB,RARE \t XAW \t 0.8666666666666667\n",
      "C23638T;T23765G \t ['S:I692I;S:S735A'] \t RECOMB,RARE \t XB \t 0.39205882352941174\n",
      "C23625T;C23638T;T23765G \t ['S:A688V;S:I692I;S:S735A'] \t RECOMB,RARE \t XB \t 0.39029411764705885\n",
      "T2943A;C3037T \t ['ORF1a:L893Q;ORF1a:F924F'] \t ANCHOR,RARE \t XE \t 0.03165938864628821\n",
      "T22917G;C22995A;T23018C \t ['S:L452R;S:T478K;S:F486L'] \t RECOMB,RARE \t XAY \t 0.8\n",
      "C28854T;A28910T \t ['N:S194L;N:N213Y'] \t RECOMB,RARE \t XB \t 0.9161764705882353\n",
      "G26526A;C26577G \t ['M:A2T;M:Q19E'] \t RECOMB,RARE \t XAH \t 0.012121212121212121\n",
      "C23604A;C23625T;C23638T;T23765G \t ['S:P681H;S:A688V;S:I692I;S:S735A'] \t RECOMB,RARE \t XB \t 0.3897058823529412\n",
      "C26833T;C26858T \t ['M:A104V;M:F112F'] \t ANCHOR,RARE \t XG \t 0.014613778705636743\n",
      "C23604A;C23638T;T23765G \t ['S:P681H;S:I692I;S:S735A'] \t RECOMB,RARE \t XB \t 0.3914705882352941\n",
      "C25584T;C25672T \t ['ORF3a:T64T;ORF3a:L94F'] \t RECOMB,RARE \t XG \t 0.5219206680584552\n",
      "C20987T;C21057T \t ['ORF1b:T2507I;ORF1b:D2530D'] \t ANCHOR,RARE \t XB \t 0.2223529411764706\n",
      "C23604A;C23625T;C23638T \t ['S:P681H;S:A688V;S:I692I'] \t RECOMB,RARE \t XB \t 0.39441176470588235\n",
      "C23625T;C23638T \t ['S:A688V;S:I692I'] \t RECOMB,RARE \t XB \t 0.395\n"
     ]
    }
   ],
   "source": [
    "for mutation in lineages:\n",
    "    category, highest_lineage, prev = quary_mutation_set(set(mutation.split(';')))\n",
    "    if prev >= 0.01:\n",
    "        print(mutation, '\\t', excl_merged_df[excl_merged_df['Nt Mutations'] == mutation]['AA Mutations'].unique(), '\\t', category, '\\t', highest_lineage, '\\t', prev)"
   ]
  },
  {
   "cell_type": "code",
   "execution_count": 486,
   "metadata": {},
   "outputs": [
    {
     "data": {
      "text/html": [
       "<div>\n",
       "<style scoped>\n",
       "    .dataframe tbody tr th:only-of-type {\n",
       "        vertical-align: middle;\n",
       "    }\n",
       "\n",
       "    .dataframe tbody tr th {\n",
       "        vertical-align: top;\n",
       "    }\n",
       "\n",
       "    .dataframe thead th {\n",
       "        text-align: right;\n",
       "    }\n",
       "</style>\n",
       "<table border=\"1\" class=\"dataframe\">\n",
       "  <thead>\n",
       "    <tr style=\"text-align: right;\">\n",
       "      <th></th>\n",
       "      <th>Date</th>\n",
       "      <th>Site</th>\n",
       "      <th>Nt Mutations</th>\n",
       "      <th>AA Mutations</th>\n",
       "      <th>Support DP</th>\n",
       "      <th>Total DP</th>\n",
       "      <th>Combined Freq</th>\n",
       "    </tr>\n",
       "  </thead>\n",
       "  <tbody>\n",
       "    <tr>\n",
       "      <th>5198</th>\n",
       "      <td>2022-06-02</td>\n",
       "      <td>WL</td>\n",
       "      <td>G26526A;C26577G</td>\n",
       "      <td>M:A2T;M:Q19E</td>\n",
       "      <td>13</td>\n",
       "      <td>189</td>\n",
       "      <td>0.068783</td>\n",
       "    </tr>\n",
       "  </tbody>\n",
       "</table>\n",
       "</div>"
      ],
      "text/plain": [
       "           Date Site     Nt Mutations  AA Mutations  Support DP  Total DP  \\\n",
       "5198 2022-06-02   WL  G26526A;C26577G  M:A2T;M:Q19E          13       189   \n",
       "\n",
       "      Combined Freq  \n",
       "5198       0.068783  "
      ]
     },
     "execution_count": 486,
     "metadata": {},
     "output_type": "execute_result"
    }
   ],
   "source": [
    "excl_merged_df[excl_merged_df['Nt Mutations'] == 'G26526A;C26577G']"
   ]
  },
  {
   "cell_type": "code",
   "execution_count": 487,
   "metadata": {},
   "outputs": [
    {
     "data": {
      "text/html": [
       "<div>\n",
       "<style scoped>\n",
       "    .dataframe tbody tr th:only-of-type {\n",
       "        vertical-align: middle;\n",
       "    }\n",
       "\n",
       "    .dataframe tbody tr th {\n",
       "        vertical-align: top;\n",
       "    }\n",
       "\n",
       "    .dataframe thead th {\n",
       "        text-align: right;\n",
       "    }\n",
       "</style>\n",
       "<table border=\"1\" class=\"dataframe\">\n",
       "  <thead>\n",
       "    <tr style=\"text-align: right;\">\n",
       "      <th></th>\n",
       "      <th>Date</th>\n",
       "      <th>Site</th>\n",
       "      <th>Nt Mutations</th>\n",
       "      <th>AA Mutations</th>\n",
       "      <th>Support DP</th>\n",
       "      <th>Total DP</th>\n",
       "      <th>Combined Freq</th>\n",
       "    </tr>\n",
       "  </thead>\n",
       "  <tbody>\n",
       "    <tr>\n",
       "      <th>9099</th>\n",
       "      <td>2021-10-04</td>\n",
       "      <td>WD</td>\n",
       "      <td>A28461G;G28562A</td>\n",
       "      <td>N:D63G;N:G97S</td>\n",
       "      <td>6</td>\n",
       "      <td>153</td>\n",
       "      <td>0.039216</td>\n",
       "    </tr>\n",
       "    <tr>\n",
       "      <th>10622</th>\n",
       "      <td>2021-11-22</td>\n",
       "      <td>KW</td>\n",
       "      <td>A28461G;G28562A</td>\n",
       "      <td>N:D63G;N:G97S</td>\n",
       "      <td>9</td>\n",
       "      <td>164</td>\n",
       "      <td>0.054878</td>\n",
       "    </tr>\n",
       "  </tbody>\n",
       "</table>\n",
       "</div>"
      ],
      "text/plain": [
       "            Date Site     Nt Mutations   AA Mutations  Support DP  Total DP  \\\n",
       "9099  2021-10-04   WD  A28461G;G28562A  N:D63G;N:G97S           6       153   \n",
       "10622 2021-11-22   KW  A28461G;G28562A  N:D63G;N:G97S           9       164   \n",
       "\n",
       "       Combined Freq  \n",
       "9099        0.039216  \n",
       "10622       0.054878  "
      ]
     },
     "execution_count": 487,
     "metadata": {},
     "output_type": "execute_result"
    }
   ],
   "source": [
    "excl_merged_df[excl_merged_df['Nt Mutations'] == 'A28461G;G28562A']"
   ]
  },
  {
   "cell_type": "markdown",
   "metadata": {},
   "source": [
    "# N:D63G, N:G97S"
   ]
  },
  {
   "cell_type": "code",
   "execution_count": 42,
   "metadata": {},
   "outputs": [
    {
     "name": "stdout",
     "output_type": "stream",
     "text": [
      "N:S194L;N:N213Y 33\n",
      "ORF1b:P314L;ORF1b:F325F 2\n",
      "S:F306F;S:G339D 2\n",
      "N:P383S;N:S413R 2\n",
      "ORF1b:L627F;ORF1b:G662S 2\n",
      "S:P681H;S:A688V;S:I692I 11\n",
      "S:T478K;S:P491P 5\n",
      "N:T379S;N:S413R 2\n",
      "S:I692I;S:S735A 9\n",
      "N:S180S;N:R203K;N:R203R;N:G204R 2\n",
      "ORF1a:L893Q;ORF1a:F924F 2\n",
      "S:P681H;S:I692I;S:S735A 3\n",
      "N:D63G;N:G97S 2\n",
      "N:N4T;N:P13L 8\n",
      "ORF1b:T2507I;ORF1b:D2530D 2\n",
      "S:A688V;S:I692I;S:S735A 8\n",
      "S:P681H;S:A688V;S:I692I;S:S735A 10\n",
      "S:A688V;S:I692I 8\n"
     ]
    }
   ],
   "source": [
    "for cryptic in set(excl_merged_df['AA Mutations'].unique()) - set(incl_merged_df['AA Mutations'].unique()):\n",
    "    if excl_merged_df[excl_merged_df['AA Mutations'] == cryptic].shape[0] >= 2:\n",
    "        print(cryptic, excl_merged_df[excl_merged_df['AA Mutations'] == cryptic].shape[0])"
   ]
  },
  {
   "cell_type": "markdown",
   "metadata": {},
   "source": [
    "## N:N4T;N:P13L (XBB.5)"
   ]
  },
  {
   "cell_type": "code",
   "execution_count": 63,
   "metadata": {},
   "outputs": [
    {
     "data": {
      "text/html": [
       "<div>\n",
       "<style scoped>\n",
       "    .dataframe tbody tr th:only-of-type {\n",
       "        vertical-align: middle;\n",
       "    }\n",
       "\n",
       "    .dataframe tbody tr th {\n",
       "        vertical-align: top;\n",
       "    }\n",
       "\n",
       "    .dataframe thead th {\n",
       "        text-align: right;\n",
       "    }\n",
       "</style>\n",
       "<table border=\"1\" class=\"dataframe\">\n",
       "  <thead>\n",
       "    <tr style=\"text-align: right;\">\n",
       "      <th></th>\n",
       "      <th>Date</th>\n",
       "      <th>Site</th>\n",
       "      <th>Nt Mutations</th>\n",
       "      <th>AA Mutations</th>\n",
       "      <th>Support DP</th>\n",
       "      <th>Total DP</th>\n",
       "      <th>Combined Freq</th>\n",
       "    </tr>\n",
       "  </thead>\n",
       "  <tbody>\n",
       "    <tr>\n",
       "      <th>672</th>\n",
       "      <td>2021-03-01</td>\n",
       "      <td>69</td>\n",
       "      <td>C23604A;C23625T;C23638T;T23765G</td>\n",
       "      <td>S:P681H;S:A688V;S:I692I;S:S735A</td>\n",
       "      <td>34</td>\n",
       "      <td>100</td>\n",
       "      <td>0.340000</td>\n",
       "    </tr>\n",
       "    <tr>\n",
       "      <th>915</th>\n",
       "      <td>2021-03-15</td>\n",
       "      <td>111</td>\n",
       "      <td>C23604A;C23625T;C23638T;T23765G</td>\n",
       "      <td>S:P681H;S:A688V;S:I692I;S:S735A</td>\n",
       "      <td>7</td>\n",
       "      <td>417</td>\n",
       "      <td>0.016787</td>\n",
       "    </tr>\n",
       "    <tr>\n",
       "      <th>1871</th>\n",
       "      <td>2021-03-15</td>\n",
       "      <td>WB</td>\n",
       "      <td>C23604A;C23625T;C23638T;T23765G</td>\n",
       "      <td>S:P681H;S:A688V;S:I692I;S:S735A</td>\n",
       "      <td>308</td>\n",
       "      <td>530</td>\n",
       "      <td>0.581132</td>\n",
       "    </tr>\n",
       "    <tr>\n",
       "      <th>2833</th>\n",
       "      <td>2021-04-12</td>\n",
       "      <td>23</td>\n",
       "      <td>C23604A;C23625T;C23638T;T23765G</td>\n",
       "      <td>S:P681H;S:A688V;S:I692I;S:S735A</td>\n",
       "      <td>14</td>\n",
       "      <td>168</td>\n",
       "      <td>0.083333</td>\n",
       "    </tr>\n",
       "    <tr>\n",
       "      <th>4210</th>\n",
       "      <td>2021-05-03</td>\n",
       "      <td>BW</td>\n",
       "      <td>C23604A;C23625T;C23638T;T23765G</td>\n",
       "      <td>S:P681H;S:A688V;S:I692I;S:S735A</td>\n",
       "      <td>43</td>\n",
       "      <td>51</td>\n",
       "      <td>0.843137</td>\n",
       "    </tr>\n",
       "    <tr>\n",
       "      <th>4698</th>\n",
       "      <td>2021-05-17</td>\n",
       "      <td>203</td>\n",
       "      <td>C23604A;C23625T;C23638T;T23765G</td>\n",
       "      <td>S:P681H;S:A688V;S:I692I;S:S735A</td>\n",
       "      <td>37</td>\n",
       "      <td>118</td>\n",
       "      <td>0.313559</td>\n",
       "    </tr>\n",
       "    <tr>\n",
       "      <th>4783</th>\n",
       "      <td>2021-05-17</td>\n",
       "      <td>NE</td>\n",
       "      <td>C23604A;C23625T;C23638T;T23765G</td>\n",
       "      <td>S:P681H;S:A688V;S:I692I;S:S735A</td>\n",
       "      <td>23</td>\n",
       "      <td>109</td>\n",
       "      <td>0.211009</td>\n",
       "    </tr>\n",
       "    <tr>\n",
       "      <th>5872</th>\n",
       "      <td>2021-06-28</td>\n",
       "      <td>NG</td>\n",
       "      <td>C23604A;C23625T;C23638T;T23765G</td>\n",
       "      <td>S:P681H;S:A688V;S:I692I;S:S735A</td>\n",
       "      <td>69</td>\n",
       "      <td>206</td>\n",
       "      <td>0.334951</td>\n",
       "    </tr>\n",
       "    <tr>\n",
       "      <th>6101</th>\n",
       "      <td>2021-07-12</td>\n",
       "      <td>WO</td>\n",
       "      <td>C23604A;C23625T;C23638T;T23765G</td>\n",
       "      <td>S:P681H;S:A688V;S:I692I;S:S735A</td>\n",
       "      <td>22</td>\n",
       "      <td>208</td>\n",
       "      <td>0.105769</td>\n",
       "    </tr>\n",
       "    <tr>\n",
       "      <th>6265</th>\n",
       "      <td>2021-07-19</td>\n",
       "      <td>EH</td>\n",
       "      <td>C23604A;C23625T;C23638T;T23765G</td>\n",
       "      <td>S:P681H;S:A688V;S:I692I;S:S735A</td>\n",
       "      <td>16</td>\n",
       "      <td>76</td>\n",
       "      <td>0.210526</td>\n",
       "    </tr>\n",
       "  </tbody>\n",
       "</table>\n",
       "</div>"
      ],
      "text/plain": [
       "           Date Site                     Nt Mutations  \\\n",
       "672  2021-03-01   69  C23604A;C23625T;C23638T;T23765G   \n",
       "915  2021-03-15  111  C23604A;C23625T;C23638T;T23765G   \n",
       "1871 2021-03-15   WB  C23604A;C23625T;C23638T;T23765G   \n",
       "2833 2021-04-12   23  C23604A;C23625T;C23638T;T23765G   \n",
       "4210 2021-05-03   BW  C23604A;C23625T;C23638T;T23765G   \n",
       "4698 2021-05-17  203  C23604A;C23625T;C23638T;T23765G   \n",
       "4783 2021-05-17   NE  C23604A;C23625T;C23638T;T23765G   \n",
       "5872 2021-06-28   NG  C23604A;C23625T;C23638T;T23765G   \n",
       "6101 2021-07-12   WO  C23604A;C23625T;C23638T;T23765G   \n",
       "6265 2021-07-19   EH  C23604A;C23625T;C23638T;T23765G   \n",
       "\n",
       "                         AA Mutations  Support DP  Total DP  Combined Freq  \n",
       "672   S:P681H;S:A688V;S:I692I;S:S735A          34       100       0.340000  \n",
       "915   S:P681H;S:A688V;S:I692I;S:S735A           7       417       0.016787  \n",
       "1871  S:P681H;S:A688V;S:I692I;S:S735A         308       530       0.581132  \n",
       "2833  S:P681H;S:A688V;S:I692I;S:S735A          14       168       0.083333  \n",
       "4210  S:P681H;S:A688V;S:I692I;S:S735A          43        51       0.843137  \n",
       "4698  S:P681H;S:A688V;S:I692I;S:S735A          37       118       0.313559  \n",
       "4783  S:P681H;S:A688V;S:I692I;S:S735A          23       109       0.211009  \n",
       "5872  S:P681H;S:A688V;S:I692I;S:S735A          69       206       0.334951  \n",
       "6101  S:P681H;S:A688V;S:I692I;S:S735A          22       208       0.105769  \n",
       "6265  S:P681H;S:A688V;S:I692I;S:S735A          16        76       0.210526  "
      ]
     },
     "execution_count": 63,
     "metadata": {},
     "output_type": "execute_result"
    }
   ],
   "source": [
    "excl_merged_df[excl_merged_df['AA Mutations'] == 'S:P681H;S:A688V;S:I692I;S:S735A']"
   ]
  },
  {
   "cell_type": "code",
   "execution_count": 64,
   "metadata": {},
   "outputs": [
    {
     "data": {
      "text/plain": [
       "defaultdict(int, {'XB': 1325, 'B.1.1.7': 3, 'AY.25.1': 1, 'B.1': 2})"
      ]
     },
     "execution_count": 64,
     "metadata": {},
     "output_type": "execute_result"
    }
   ],
   "source": [
    "mutation_comb_msa_query(set('C23604A;C23625T;C23638T;T23765G'.split(\";\")), incl_db, genome2snp_dict, output_acc_id=False)"
   ]
  },
  {
   "cell_type": "code",
   "execution_count": 53,
   "metadata": {},
   "outputs": [
    {
     "data": {
      "text/plain": [
       "{'AY.117/2021-10-04',\n",
       " 'B.1.170/2020-07-20',\n",
       " 'B.1.243/2021-03-29',\n",
       " 'B.1/2020-08-03',\n",
       " 'BA.1.1/2022-03-28',\n",
       " 'BA.1.17/2022-02-14',\n",
       " 'BA.1/2022-01-31',\n",
       " 'BA.2.10.1/2022-06-13',\n",
       " 'BA.2.3.13/2022-04-04',\n",
       " 'BA.2.3/2022-04-11',\n",
       " 'BA.2.3/2022-05-16',\n",
       " 'BA.2/2022-05-02',\n",
       " 'BA.2/2022-05-23',\n",
       " 'BA.3/2022-01-17',\n",
       " 'BA.5.1/2022-10-24',\n",
       " 'BE.2/2022-09-12',\n",
       " 'BE.2/2022-09-19',\n",
       " 'BF.5/2022-08-15',\n",
       " 'P.1.13/2021-05-17',\n",
       " 'P.1.17/2021-05-10',\n",
       " 'P.1/2021-05-31',\n",
       " 'XBB.5/2022-11-28'}"
      ]
     },
     "execution_count": 53,
     "metadata": {},
     "output_type": "execute_result"
    }
   ],
   "source": [
    "incl_db['A28284C']"
   ]
  },
  {
   "cell_type": "code",
   "execution_count": 56,
   "metadata": {},
   "outputs": [
    {
     "data": {
      "text/plain": [
       "{'B.1/2020-08-03',\n",
       " 'BA.1.1/2022-03-28',\n",
       " 'BA.1.17/2022-02-14',\n",
       " 'BA.1/2022-01-31',\n",
       " 'BA.2.10.1/2022-06-13',\n",
       " 'BA.2.3.13/2022-04-04',\n",
       " 'BA.2.3/2022-04-11',\n",
       " 'BA.2.3/2022-05-16',\n",
       " 'BA.2/2022-05-02',\n",
       " 'BA.2/2022-05-23',\n",
       " 'BA.3/2022-01-17',\n",
       " 'BA.5.1/2022-10-24',\n",
       " 'BE.2/2022-09-12',\n",
       " 'BE.2/2022-09-19',\n",
       " 'BF.5/2022-08-15',\n",
       " 'P.1/2021-05-31',\n",
       " 'XBB.5/2022-11-28'}"
      ]
     },
     "execution_count": 56,
     "metadata": {},
     "output_type": "execute_result"
    }
   ],
   "source": [
    "incl_db['C28311T'].intersection(incl_db['A28284C'])"
   ]
  },
  {
   "cell_type": "code",
   "execution_count": 26,
   "metadata": {},
   "outputs": [],
   "source": [
    "diff = set(excl_merged_df['Nt Mutations'].unique()) - set(incl_merged_df['Nt Mutations'].unique())"
   ]
  },
  {
   "cell_type": "code",
   "execution_count": 29,
   "metadata": {},
   "outputs": [
    {
     "data": {
      "text/plain": [
       "['A28461G;G28562A',\n",
       " 'G28805T;G28881A;G28882A;G28883C',\n",
       " 'G28881A;G28882A;G28883C;C29007T',\n",
       " 'C23638T;T23765G',\n",
       " 'G18106T;A18163G',\n",
       " 'C23625T;C23638T;T23765G',\n",
       " 'C15346T;G15451A',\n",
       " 'T2943A;C3037T',\n",
       " 'T22917G;C22995A;T23018C',\n",
       " 'C28854T;A28910T',\n",
       " 'G26526A;C26577G',\n",
       " 'C22995A;T23035C',\n",
       " 'C23604A;C23625T;C23638T;T23765G',\n",
       " 'C26833T;C26858T',\n",
       " 'A23848T;C23854A',\n",
       " 'C29409G;A29510C',\n",
       " 'C23604A;C23638T;T23765G',\n",
       " 'C25584T;C25672T',\n",
       " 'C20987T;C21057T',\n",
       " 'A23848T;C23854A;G23948T',\n",
       " 'C23604A;C23625T;C23638T',\n",
       " 'C14408T;T14442C',\n",
       " 'C29420T;A29510C',\n",
       " 'C23625T;C23638T',\n",
       " 'T28813C;G28881A;G28882A;G28883C',\n",
       " 'A28461G;C28528T',\n",
       " 'A28284C;C28311T',\n",
       " 'C26537T;C26577G',\n",
       " 'C22480T;G22578A']"
      ]
     },
     "execution_count": 29,
     "metadata": {},
     "output_type": "execute_result"
    }
   ],
   "source": [
    "list(diff)"
   ]
  },
  {
   "cell_type": "code",
   "execution_count": 34,
   "metadata": {},
   "outputs": [
    {
     "ename": "ValueError",
     "evalue": "No axis named A28461G;G28562A for object type DataFrame",
     "output_type": "error",
     "traceback": [
      "\u001b[0;31m---------------------------------------------------------------------------\u001b[0m",
      "\u001b[0;31mKeyError\u001b[0m                                  Traceback (most recent call last)",
      "\u001b[0;32m~/miniconda3/envs/waste_water_cryptic/lib/python3.7/site-packages/pandas/core/generic.py\u001b[0m in \u001b[0;36m_get_axis_number\u001b[0;34m(cls, axis)\u001b[0m\n\u001b[1;32m    367\u001b[0m         \u001b[0;32mtry\u001b[0m\u001b[0;34m:\u001b[0m\u001b[0;34m\u001b[0m\u001b[0;34m\u001b[0m\u001b[0m\n\u001b[0;32m--> 368\u001b[0;31m             \u001b[0;32mreturn\u001b[0m \u001b[0mcls\u001b[0m\u001b[0;34m.\u001b[0m\u001b[0m_AXIS_TO_AXIS_NUMBER\u001b[0m\u001b[0;34m[\u001b[0m\u001b[0maxis\u001b[0m\u001b[0;34m]\u001b[0m\u001b[0;34m\u001b[0m\u001b[0;34m\u001b[0m\u001b[0m\n\u001b[0m\u001b[1;32m    369\u001b[0m         \u001b[0;32mexcept\u001b[0m \u001b[0mKeyError\u001b[0m\u001b[0;34m:\u001b[0m\u001b[0;34m\u001b[0m\u001b[0;34m\u001b[0m\u001b[0m\n",
      "\u001b[0;31mKeyError\u001b[0m: 'A28461G;G28562A'",
      "\nDuring handling of the above exception, another exception occurred:\n",
      "\u001b[0;31mValueError\u001b[0m                                Traceback (most recent call last)",
      "\u001b[0;32m<ipython-input-34-3b3ed816d480>\u001b[0m in \u001b[0;36m<module>\u001b[0;34m\u001b[0m\n\u001b[1;32m      1\u001b[0m \u001b[0;32mfor\u001b[0m \u001b[0mcryptic\u001b[0m \u001b[0;32min\u001b[0m \u001b[0mlist\u001b[0m\u001b[0;34m(\u001b[0m\u001b[0mdiff\u001b[0m\u001b[0;34m)\u001b[0m\u001b[0;34m:\u001b[0m\u001b[0;34m\u001b[0m\u001b[0;34m\u001b[0m\u001b[0m\n\u001b[0;32m----> 2\u001b[0;31m     \u001b[0mprint\u001b[0m\u001b[0;34m(\u001b[0m\u001b[0mgisaid_count_df\u001b[0m\u001b[0;34m.\u001b[0m\u001b[0mloc\u001b[0m\u001b[0;34m(\u001b[0m\u001b[0mcryptic\u001b[0m\u001b[0;34m)\u001b[0m\u001b[0;34m)\u001b[0m\u001b[0;34m\u001b[0m\u001b[0;34m\u001b[0m\u001b[0m\n\u001b[0m",
      "\u001b[0;32m~/miniconda3/envs/waste_water_cryptic/lib/python3.7/site-packages/pandas/core/indexing.py\u001b[0m in \u001b[0;36m__call__\u001b[0;34m(self, axis)\u001b[0m\n\u001b[1;32m    582\u001b[0m \u001b[0;34m\u001b[0m\u001b[0m\n\u001b[1;32m    583\u001b[0m         \u001b[0;32mif\u001b[0m \u001b[0maxis\u001b[0m \u001b[0;32mis\u001b[0m \u001b[0;32mnot\u001b[0m \u001b[0;32mNone\u001b[0m\u001b[0;34m:\u001b[0m\u001b[0;34m\u001b[0m\u001b[0;34m\u001b[0m\u001b[0m\n\u001b[0;32m--> 584\u001b[0;31m             \u001b[0maxis\u001b[0m \u001b[0;34m=\u001b[0m \u001b[0mself\u001b[0m\u001b[0;34m.\u001b[0m\u001b[0mobj\u001b[0m\u001b[0;34m.\u001b[0m\u001b[0m_get_axis_number\u001b[0m\u001b[0;34m(\u001b[0m\u001b[0maxis\u001b[0m\u001b[0;34m)\u001b[0m\u001b[0;34m\u001b[0m\u001b[0;34m\u001b[0m\u001b[0m\n\u001b[0m\u001b[1;32m    585\u001b[0m         \u001b[0mnew_self\u001b[0m\u001b[0;34m.\u001b[0m\u001b[0maxis\u001b[0m \u001b[0;34m=\u001b[0m \u001b[0maxis\u001b[0m\u001b[0;34m\u001b[0m\u001b[0;34m\u001b[0m\u001b[0m\n\u001b[1;32m    586\u001b[0m         \u001b[0;32mreturn\u001b[0m \u001b[0mnew_self\u001b[0m\u001b[0;34m\u001b[0m\u001b[0;34m\u001b[0m\u001b[0m\n",
      "\u001b[0;32m~/miniconda3/envs/waste_water_cryptic/lib/python3.7/site-packages/pandas/core/generic.py\u001b[0m in \u001b[0;36m_get_axis_number\u001b[0;34m(cls, axis)\u001b[0m\n\u001b[1;32m    368\u001b[0m             \u001b[0;32mreturn\u001b[0m \u001b[0mcls\u001b[0m\u001b[0;34m.\u001b[0m\u001b[0m_AXIS_TO_AXIS_NUMBER\u001b[0m\u001b[0;34m[\u001b[0m\u001b[0maxis\u001b[0m\u001b[0;34m]\u001b[0m\u001b[0;34m\u001b[0m\u001b[0;34m\u001b[0m\u001b[0m\n\u001b[1;32m    369\u001b[0m         \u001b[0;32mexcept\u001b[0m \u001b[0mKeyError\u001b[0m\u001b[0;34m:\u001b[0m\u001b[0;34m\u001b[0m\u001b[0;34m\u001b[0m\u001b[0m\n\u001b[0;32m--> 370\u001b[0;31m             \u001b[0;32mraise\u001b[0m \u001b[0mValueError\u001b[0m\u001b[0;34m(\u001b[0m\u001b[0;34mf\"No axis named {axis} for object type {cls.__name__}\"\u001b[0m\u001b[0;34m)\u001b[0m\u001b[0;34m\u001b[0m\u001b[0;34m\u001b[0m\u001b[0m\n\u001b[0m\u001b[1;32m    371\u001b[0m \u001b[0;34m\u001b[0m\u001b[0m\n\u001b[1;32m    372\u001b[0m     \u001b[0;34m@\u001b[0m\u001b[0mclassmethod\u001b[0m\u001b[0;34m\u001b[0m\u001b[0;34m\u001b[0m\u001b[0m\n",
      "\u001b[0;31mValueError\u001b[0m: No axis named A28461G;G28562A for object type DataFrame"
     ]
    }
   ],
   "source": [
    "for cryptic in list(diff):\n",
    "    print(gisaid_count_df.loc(cryptic))"
   ]
  },
  {
   "cell_type": "code",
   "execution_count": 35,
   "metadata": {},
   "outputs": [
    {
     "data": {
      "text/html": [
       "<div>\n",
       "<style scoped>\n",
       "    .dataframe tbody tr th:only-of-type {\n",
       "        vertical-align: middle;\n",
       "    }\n",
       "\n",
       "    .dataframe tbody tr th {\n",
       "        vertical-align: top;\n",
       "    }\n",
       "\n",
       "    .dataframe thead th {\n",
       "        text-align: right;\n",
       "    }\n",
       "</style>\n",
       "<table border=\"1\" class=\"dataframe\">\n",
       "  <thead>\n",
       "    <tr style=\"text-align: right;\">\n",
       "      <th></th>\n",
       "      <th>GISAID Count</th>\n",
       "    </tr>\n",
       "  </thead>\n",
       "  <tbody>\n",
       "    <tr>\n",
       "      <th>A13098G;T13195C</th>\n",
       "      <td>23</td>\n",
       "    </tr>\n",
       "    <tr>\n",
       "      <th>T23599G;C23604A;G23642T</th>\n",
       "      <td>29</td>\n",
       "    </tr>\n",
       "    <tr>\n",
       "      <th>A24966T;C25000T</th>\n",
       "      <td>10</td>\n",
       "    </tr>\n",
       "    <tr>\n",
       "      <th>A29039T;G29049A</th>\n",
       "      <td>3</td>\n",
       "    </tr>\n",
       "    <tr>\n",
       "      <th>G28881A;G28882A;G28883C;G28931T</th>\n",
       "      <td>484</td>\n",
       "    </tr>\n",
       "    <tr>\n",
       "      <th>...</th>\n",
       "      <td>...</td>\n",
       "    </tr>\n",
       "    <tr>\n",
       "      <th>G28881A;G28882A;G28883C;C28893A</th>\n",
       "      <td>72</td>\n",
       "    </tr>\n",
       "    <tr>\n",
       "      <th>G13161T;T13195C</th>\n",
       "      <td>0</td>\n",
       "    </tr>\n",
       "    <tr>\n",
       "      <th>C24130A;C24181G</th>\n",
       "      <td>0</td>\n",
       "    </tr>\n",
       "    <tr>\n",
       "      <th>G28681A;G28881A;G28882A;G28883C</th>\n",
       "      <td>1523</td>\n",
       "    </tr>\n",
       "    <tr>\n",
       "      <th>A27344T;A27345T;A27354G;C28311T</th>\n",
       "      <td>5</td>\n",
       "    </tr>\n",
       "  </tbody>\n",
       "</table>\n",
       "<p>6995 rows × 1 columns</p>\n",
       "</div>"
      ],
      "text/plain": [
       "                                 GISAID Count\n",
       "A13098G;T13195C                            23\n",
       "T23599G;C23604A;G23642T                    29\n",
       "A24966T;C25000T                            10\n",
       "A29039T;G29049A                             3\n",
       "G28881A;G28882A;G28883C;G28931T           484\n",
       "...                                       ...\n",
       "G28881A;G28882A;G28883C;C28893A            72\n",
       "G13161T;T13195C                             0\n",
       "C24130A;C24181G                             0\n",
       "G28681A;G28881A;G28882A;G28883C          1523\n",
       "A27344T;A27345T;A27354G;C28311T             5\n",
       "\n",
       "[6995 rows x 1 columns]"
      ]
     },
     "execution_count": 35,
     "metadata": {},
     "output_type": "execute_result"
    }
   ],
   "source": [
    "gisaid_count_df"
   ]
  },
  {
   "cell_type": "code",
   "execution_count": 16,
   "metadata": {},
   "outputs": [
    {
     "data": {
      "text/plain": [
       "set()"
      ]
     },
     "execution_count": 16,
     "metadata": {},
     "output_type": "execute_result"
    }
   ],
   "source": [
    "set(incl_merged_df['Nt Mutations'].unique()) - set(excl_merged_df['Nt Mutations'].unique())"
   ]
  },
  {
   "cell_type": "code",
   "execution_count": 13,
   "metadata": {},
   "outputs": [
    {
     "ename": "NameError",
     "evalue": "name 'incl_selected_data' is not defined",
     "output_type": "error",
     "traceback": [
      "\u001b[0;31m---------------------------------------------------------------------------\u001b[0m",
      "\u001b[0;31mNameError\u001b[0m                                 Traceback (most recent call last)",
      "\u001b[0;32m<ipython-input-13-5579f5bb67a1>\u001b[0m in \u001b[0;36m<module>\u001b[0;34m\u001b[0m\n\u001b[0;32m----> 1\u001b[0;31m \u001b[0mdiff1\u001b[0m \u001b[0;34m=\u001b[0m \u001b[0mset\u001b[0m\u001b[0;34m(\u001b[0m\u001b[0mincl_selected_data\u001b[0m\u001b[0;34m.\u001b[0m\u001b[0mindex\u001b[0m\u001b[0;34m)\u001b[0m \u001b[0;34m-\u001b[0m \u001b[0mset\u001b[0m\u001b[0;34m(\u001b[0m\u001b[0mexcl_selected_data\u001b[0m\u001b[0;34m.\u001b[0m\u001b[0mindex\u001b[0m\u001b[0;34m)\u001b[0m\u001b[0;34m\u001b[0m\u001b[0;34m\u001b[0m\u001b[0m\n\u001b[0m",
      "\u001b[0;31mNameError\u001b[0m: name 'incl_selected_data' is not defined"
     ]
    }
   ],
   "source": [
    "diff1 = set(incl_selected_data.index) - set(excl_selected_data.index)"
   ]
  },
  {
   "cell_type": "code",
   "execution_count": 186,
   "metadata": {},
   "outputs": [
    {
     "data": {
      "text/plain": [
       "540"
      ]
     },
     "execution_count": 186,
     "metadata": {},
     "output_type": "execute_result"
    }
   ],
   "source": [
    "len(diff1)"
   ]
  },
  {
   "cell_type": "code",
   "execution_count": 187,
   "metadata": {},
   "outputs": [],
   "source": [
    "diff2 = set(excl_selected_data.index) - set(incl_selected_data.index)\n",
    "# cryptic all belongs to recombinants."
   ]
  },
  {
   "cell_type": "code",
   "execution_count": 188,
   "metadata": {},
   "outputs": [
    {
     "data": {
      "text/plain": [
       "7"
      ]
     },
     "execution_count": 188,
     "metadata": {},
     "output_type": "execute_result"
    }
   ],
   "source": [
    "len(diff2)"
   ]
  },
  {
   "cell_type": "code",
   "execution_count": 196,
   "metadata": {},
   "outputs": [
    {
     "data": {
      "text/plain": [
       "{'A28284C;C28311T',\n",
       " 'C23604A;C23625T;C23638T',\n",
       " 'C23604A;C23625T;C23638T;T23765G',\n",
       " 'C23625T;C23638T',\n",
       " 'C23625T;C23638T;T23765G',\n",
       " 'C23638T;T23765G',\n",
       " 'C28854T;A28910T'}"
      ]
     },
     "execution_count": 196,
     "metadata": {},
     "output_type": "execute_result"
    }
   ],
   "source": [
    "diff2"
   ]
  },
  {
   "cell_type": "code",
   "execution_count": null,
   "metadata": {},
   "outputs": [],
   "source": []
  }
 ],
 "metadata": {
  "kernelspec": {
   "display_name": "Python 3",
   "language": "python",
   "name": "python3"
  },
  "language_info": {
   "codemirror_mode": {
    "name": "ipython",
    "version": 3
   },
   "file_extension": ".py",
   "mimetype": "text/x-python",
   "name": "python",
   "nbconvert_exporter": "python",
   "pygments_lexer": "ipython3",
   "version": "3.7.12"
  }
 },
 "nbformat": 4,
 "nbformat_minor": 4
}
